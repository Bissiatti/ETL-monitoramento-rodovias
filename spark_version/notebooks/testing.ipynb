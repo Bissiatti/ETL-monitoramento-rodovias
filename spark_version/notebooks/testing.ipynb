{
 "cells": [
  {
   "cell_type": "code",
   "execution_count": 23,
   "id": "92314900-b3b6-4ed7-86a9-a26474046fb8",
   "metadata": {},
   "outputs": [
    {
     "name": "stderr",
     "output_type": "stream",
     "text": [
      "/usr/local/spark/python/pyspark/sql/context.py:112: FutureWarning: Deprecated in 3.0.0. Use SparkSession.builder.getOrCreate() instead.\n",
      "  warnings.warn(\n"
     ]
    }
   ],
   "source": [
    "import pandas as pd\n",
    "import numpy as np\n",
    "import matplotlib.pyplot as plt\n",
    "import seaborn as sns\n",
    "from pyspark.sql.types import * \n",
    "from pyspark.sql import SparkSession, DataFrame as SparkDataFrame\n",
    "import pyspark.sql.functions as F\n",
    "from pyspark.sql.functions import col,isnan, when, count, coalesce\n",
    "from pyspark import SparkContext\n",
    "from pyspark.sql import SQLContext\n",
    "import json\n",
    "from functools import reduce\n",
    "import sys\n",
    "from cassandra.cluster import Cluster\n",
    "import os\n",
    "from pyspark.sql.functions import col, lag, lead\n",
    "from pyspark.sql.window import Window\n",
    "# from mock.tasks import adiciona_carro\n",
    "cluster = Cluster(['cassandra'])\n",
    "session = cluster.connect()\n",
    "\n",
    "ss = SparkSession.builder.appName(\"test\").getOrCreate()\n",
    "sql = SQLContext(ss)"
   ]
  },
  {
   "cell_type": "code",
   "execution_count": 24,
   "id": "4ace41b7-0602-4d30-8fc2-4a41b884dea5",
   "metadata": {},
   "outputs": [
    {
     "data": {
      "text/plain": [
       "<cassandra.cluster.ResultSet at 0x7f228ab21c50>"
      ]
     },
     "execution_count": 24,
     "metadata": {},
     "output_type": "execute_result"
    }
   ],
   "source": [
    "session.execute(\"USE simulacao\")"
   ]
  },
  {
   "cell_type": "code",
   "execution_count": 25,
   "id": "99159133-eb27-440d-9e2f-24f9f9e3ae0e",
   "metadata": {},
   "outputs": [
    {
     "name": "stderr",
     "output_type": "stream",
     "text": [
      "/tmp/ipykernel_1363/795349805.py:1: DeprecationWarning: ResultSet indexing support will be removed in 4.0. Consider using ResultSet.one() to get a single row.\n",
      "  session.execute(\"select count(*) from simulacao\")[0]\n"
     ]
    },
    {
     "data": {
      "text/plain": [
       "Row(count=3134)"
      ]
     },
     "execution_count": 25,
     "metadata": {},
     "output_type": "execute_result"
    }
   ],
   "source": [
    "session.execute(\"select count(*) from simulacao\")[0]"
   ]
  },
  {
   "cell_type": "code",
   "execution_count": 26,
   "id": "160193c9-855e-4797-baf4-e9967e76c8a9",
   "metadata": {},
   "outputs": [],
   "source": [
    "result = session.execute(\"SELECT * FROM simulacao WHERE tempo_da_simulacao = 142 ALLOW FILTERING;\")"
   ]
  },
  {
   "cell_type": "code",
   "execution_count": 27,
   "id": "849c8f85-bcf0-4f98-bc45-1bcda2f196d7",
   "metadata": {},
   "outputs": [
    {
     "name": "stderr",
     "output_type": "stream",
     "text": [
      "/tmp/ipykernel_1363/223460175.py:1: DeprecationWarning: ResultSet indexing support will be removed in 4.0. Consider using ResultSet.one() to get a single row.\n",
      "  result[0]\n"
     ]
    },
    {
     "data": {
      "text/plain": [
       "Row(rodovia='BR-116', tempo_da_simulacao=142, placa='ARG5B67', pos_x=655.0, pos_y=168.99999999999872)"
      ]
     },
     "execution_count": 27,
     "metadata": {},
     "output_type": "execute_result"
    }
   ],
   "source": [
    "result[0]"
   ]
  },
  {
   "cell_type": "code",
   "execution_count": 28,
   "id": "526f2e12-46d5-4b63-84af-fd66bba99e78",
   "metadata": {},
   "outputs": [],
   "source": [
    "r = list(result)"
   ]
  },
  {
   "cell_type": "code",
   "execution_count": 29,
   "id": "fac82b92-0f58-4fc1-ab9c-61a7b43475f5",
   "metadata": {},
   "outputs": [
    {
     "data": {
      "text/plain": [
       "[Row(rodovia='BR-116', tempo_da_simulacao=142, placa='ARG5B67', pos_x=655.0, pos_y=168.99999999999872),\n",
       " Row(rodovia='BR-116', tempo_da_simulacao=142, placa='CHI6S78', pos_x=745.0, pos_y=820.0),\n",
       " Row(rodovia='BR-116', tempo_da_simulacao=142, placa='ECU6I78', pos_x=565.0, pos_y=90.75),\n",
       " Row(rodovia='BR-116', tempo_da_simulacao=142, placa='GUY1X23', pos_x=385.0, pos_y=310.25000000000017),\n",
       " Row(rodovia='BR-116', tempo_da_simulacao=142, placa='PAR7P89', pos_x=475.0, pos_y=152.25000000000003),\n",
       " Row(rodovia='BR-116', tempo_da_simulacao=142, placa='SUR8W90', pos_x=745.0, pos_y=749.15),\n",
       " Row(rodovia='BR-116', tempo_da_simulacao=142, placa='URU0A12', pos_x=835.0, pos_y=650.5),\n",
       " Row(rodovia='BR-116', tempo_da_simulacao=142, placa='URU4O56', pos_x=565.0, pos_y=869.2500000000007)]"
      ]
     },
     "execution_count": 29,
     "metadata": {},
     "output_type": "execute_result"
    }
   ],
   "source": [
    "r"
   ]
  },
  {
   "cell_type": "code",
   "execution_count": 30,
   "id": "c3fdcb69-e1a0-4b9b-a471-ab26947be0e4",
   "metadata": {},
   "outputs": [
    {
     "name": "stdout",
     "output_type": "stream",
     "text": [
      "+-------+------------------+-------+-----+------------------+\n",
      "|rodovia|tempo_da_simulacao|  placa|pos_x|             pos_y|\n",
      "+-------+------------------+-------+-----+------------------+\n",
      "| BR-116|               142|ARG5B67|655.0|168.99999999999872|\n",
      "| BR-116|               142|CHI6S78|745.0|             820.0|\n",
      "| BR-116|               142|ECU6I78|565.0|             90.75|\n",
      "| BR-116|               142|GUY1X23|385.0|310.25000000000017|\n",
      "| BR-116|               142|PAR7P89|475.0|152.25000000000003|\n",
      "| BR-116|               142|SUR8W90|745.0|            749.15|\n",
      "| BR-116|               142|URU0A12|835.0|             650.5|\n",
      "| BR-116|               142|URU4O56|565.0| 869.2500000000007|\n",
      "+-------+------------------+-------+-----+------------------+\n",
      "\n"
     ]
    }
   ],
   "source": [
    "df = ss.createDataFrame(r)\n",
    "\n",
    "df.show()"
   ]
  },
  {
   "cell_type": "code",
   "execution_count": 31,
   "id": "5598ccb7-819d-48c2-b658-c73efc8f8713",
   "metadata": {},
   "outputs": [
    {
     "name": "stdout",
     "output_type": "stream",
     "text": [
      "+-------+------------------+-------+-----+------------------+\n",
      "|rodovia|tempo_da_simulacao|  placa|pos_x|             pos_y|\n",
      "+-------+------------------+-------+-----+------------------+\n",
      "| BR-116|               143|ARG5B67|655.0|162.99999999999872|\n",
      "| BR-116|               143|CHI6S78|745.0|             776.0|\n",
      "| BR-116|               143|ECU6I78|565.0|325.35000000000014|\n",
      "| BR-116|               143|GUY1X23|385.0| 435.1000000000003|\n",
      "| BR-116|               143|PAR7P89|475.0| 268.8000000000002|\n",
      "| BR-116|               143|SUR8W90|745.0|            749.15|\n",
      "| BR-116|               143|URU0A12|835.0|             614.5|\n",
      "| BR-116|               143|URU4O56|565.0| 904.5000000000007|\n",
      "| BR-116|               143|URU6M78|655.0|            826.75|\n",
      "+-------+------------------+-------+-----+------------------+\n",
      "\n"
     ]
    }
   ],
   "source": [
    "result = session.execute(\"SELECT * FROM simulacao WHERE tempo_da_simulacao = 143 ALLOW FILTERING;\")\n",
    "r = list(result)\n",
    "df2 = ss.createDataFrame(r)\n",
    "df2.show()"
   ]
  },
  {
   "cell_type": "code",
   "execution_count": 32,
   "id": "3abcc112-8579-44f7-97c4-7ae5ea61b0e6",
   "metadata": {},
   "outputs": [
    {
     "name": "stdout",
     "output_type": "stream",
     "text": [
      "+-------+------------------+-------+-----+------------------+\n",
      "|rodovia|tempo_da_simulacao|  placa|pos_x|             pos_y|\n",
      "+-------+------------------+-------+-----+------------------+\n",
      "| BR-116|               144|ARG5B67|655.0|146.99999999999872|\n",
      "| BR-116|               144|CHI6S78|745.0|             776.0|\n",
      "| BR-116|               144|ECU6I78|565.0|245.55000000000007|\n",
      "| BR-116|               144|GUY1X23|385.0|459.75000000000034|\n",
      "| BR-116|               144|PAR7P89|475.0| 317.5500000000002|\n",
      "| BR-116|               144|SUR8W90|745.0|             753.5|\n",
      "| BR-116|               144|URU0A12|835.0|             658.5|\n",
      "| BR-116|               144|URU4O56|565.0| 800.5500000000006|\n",
      "| BR-116|               144|URU6M78|745.0|            800.75|\n",
      "+-------+------------------+-------+-----+------------------+\n",
      "\n"
     ]
    }
   ],
   "source": [
    "result = session.execute(\"SELECT * FROM simulacao WHERE tempo_da_simulacao = 144 ALLOW FILTERING;\")\n",
    "r = list(result)\n",
    "df25 = ss.createDataFrame(r)\n",
    "df25.show()"
   ]
  },
  {
   "cell_type": "code",
   "execution_count": 65,
   "id": "adb8bf4a-8358-4fec-acdd-8a8922b052aa",
   "metadata": {},
   "outputs": [],
   "source": [
    "df_empty = ss.createDataFrame([], \"placa: string, posicao: int, faixa: int, rodovia: string, tempo_da_simulacao: int, velocidade: double, aceleracao: double, posicao_prevista: double, acima_vel: boolean, aplicaMulta: boolean, tempo_em_curso: int\")"
   ]
  },
  {
   "cell_type": "code",
   "execution_count": 66,
   "id": "6502d2f2-4070-4fa7-ba5a-67d28e17f656",
   "metadata": {},
   "outputs": [],
   "source": [
    "import json\n",
    "params = json.load(open('./mock/parametros.json'))"
   ]
  },
  {
   "cell_type": "code",
   "execution_count": 67,
   "id": "2455de12-32b8-47f1-b1c2-3fd40ceaa406",
   "metadata": {},
   "outputs": [],
   "source": [
    "p = [[key]+list(params[key].values()) for key in params.keys()]"
   ]
  },
  {
   "cell_type": "code",
   "execution_count": 68,
   "id": "6f67878d-5e54-4270-9a17-f43f9a25464c",
   "metadata": {},
   "outputs": [
    {
     "data": {
      "text/html": [
       "<div>\n",
       "<style scoped>\n",
       "    .dataframe tbody tr th:only-of-type {\n",
       "        vertical-align: middle;\n",
       "    }\n",
       "\n",
       "    .dataframe tbody tr th {\n",
       "        vertical-align: top;\n",
       "    }\n",
       "\n",
       "    .dataframe thead th {\n",
       "        text-align: right;\n",
       "    }\n",
       "</style>\n",
       "<table border=\"1\" class=\"dataframe\">\n",
       "  <thead>\n",
       "    <tr style=\"text-align: right;\">\n",
       "      <th></th>\n",
       "      <th>Rodovia</th>\n",
       "      <th>sentido1Name</th>\n",
       "      <th>sentido2Name</th>\n",
       "      <th>sentido1Faixas</th>\n",
       "      <th>sentido2Faixas</th>\n",
       "      <th>probabilidadeDeEntradaDeVeiculo</th>\n",
       "      <th>velocidadeMaxima</th>\n",
       "      <th>velocidadeMinima</th>\n",
       "      <th>AceleracaoMaxima</th>\n",
       "      <th>AceleracaoMinima</th>\n",
       "      <th>probabilidadeDeTrocaDeFaixa</th>\n",
       "      <th>probabilidadeColisao</th>\n",
       "      <th>tempoColisao</th>\n",
       "      <th>kilometroInicial</th>\n",
       "      <th>interfaceGrafica</th>\n",
       "      <th>tamanhoCarro</th>\n",
       "    </tr>\n",
       "  </thead>\n",
       "  <tbody>\n",
       "    <tr>\n",
       "      <th>0</th>\n",
       "      <td>BR-040</td>\n",
       "      <td>Brasilia</td>\n",
       "      <td>Rio de Janeiro</td>\n",
       "      <td>3</td>\n",
       "      <td>3</td>\n",
       "      <td>0.9</td>\n",
       "      <td>10</td>\n",
       "      <td>2</td>\n",
       "      <td>0.10</td>\n",
       "      <td>0.01</td>\n",
       "      <td>0.3</td>\n",
       "      <td>0.1</td>\n",
       "      <td>3000</td>\n",
       "      <td>100</td>\n",
       "      <td>True</td>\n",
       "      <td>74</td>\n",
       "    </tr>\n",
       "    <tr>\n",
       "      <th>1</th>\n",
       "      <td>BR-116</td>\n",
       "      <td>Fortaleza</td>\n",
       "      <td>Rio Grande do Sul</td>\n",
       "      <td>3</td>\n",
       "      <td>3</td>\n",
       "      <td>0.8</td>\n",
       "      <td>9</td>\n",
       "      <td>2</td>\n",
       "      <td>0.15</td>\n",
       "      <td>0.05</td>\n",
       "      <td>0.5</td>\n",
       "      <td>0.1</td>\n",
       "      <td>3000</td>\n",
       "      <td>100</td>\n",
       "      <td>False</td>\n",
       "      <td>74</td>\n",
       "    </tr>\n",
       "    <tr>\n",
       "      <th>2</th>\n",
       "      <td>BR-135</td>\n",
       "      <td>Belo Horizonte</td>\n",
       "      <td>São Luís</td>\n",
       "      <td>3</td>\n",
       "      <td>3</td>\n",
       "      <td>0.9</td>\n",
       "      <td>12</td>\n",
       "      <td>3</td>\n",
       "      <td>0.20</td>\n",
       "      <td>0.05</td>\n",
       "      <td>0.3</td>\n",
       "      <td>0.1</td>\n",
       "      <td>3000</td>\n",
       "      <td>100</td>\n",
       "      <td>False</td>\n",
       "      <td>74</td>\n",
       "    </tr>\n",
       "    <tr>\n",
       "      <th>3</th>\n",
       "      <td>BR-393</td>\n",
       "      <td>Cachoeiro de Itapemirim</td>\n",
       "      <td>Barra Mansa</td>\n",
       "      <td>2</td>\n",
       "      <td>2</td>\n",
       "      <td>0.9</td>\n",
       "      <td>8</td>\n",
       "      <td>2</td>\n",
       "      <td>0.10</td>\n",
       "      <td>0.01</td>\n",
       "      <td>0.5</td>\n",
       "      <td>0.1</td>\n",
       "      <td>3000</td>\n",
       "      <td>100</td>\n",
       "      <td>False</td>\n",
       "      <td>74</td>\n",
       "    </tr>\n",
       "  </tbody>\n",
       "</table>\n",
       "</div>"
      ],
      "text/plain": [
       "  Rodovia             sentido1Name       sentido2Name  sentido1Faixas  \\\n",
       "0  BR-040                 Brasilia     Rio de Janeiro               3   \n",
       "1  BR-116                Fortaleza  Rio Grande do Sul               3   \n",
       "2  BR-135           Belo Horizonte           São Luís               3   \n",
       "3  BR-393  Cachoeiro de Itapemirim        Barra Mansa               2   \n",
       "\n",
       "   sentido2Faixas  probabilidadeDeEntradaDeVeiculo  velocidadeMaxima  \\\n",
       "0               3                              0.9                10   \n",
       "1               3                              0.8                 9   \n",
       "2               3                              0.9                12   \n",
       "3               2                              0.9                 8   \n",
       "\n",
       "   velocidadeMinima  AceleracaoMaxima  AceleracaoMinima  \\\n",
       "0                 2              0.10              0.01   \n",
       "1                 2              0.15              0.05   \n",
       "2                 3              0.20              0.05   \n",
       "3                 2              0.10              0.01   \n",
       "\n",
       "   probabilidadeDeTrocaDeFaixa  probabilidadeColisao  tempoColisao  \\\n",
       "0                          0.3                   0.1          3000   \n",
       "1                          0.5                   0.1          3000   \n",
       "2                          0.3                   0.1          3000   \n",
       "3                          0.5                   0.1          3000   \n",
       "\n",
       "   kilometroInicial  interfaceGrafica  tamanhoCarro  \n",
       "0               100              True            74  \n",
       "1               100             False            74  \n",
       "2               100             False            74  \n",
       "3               100             False            74  "
      ]
     },
     "execution_count": 68,
     "metadata": {},
     "output_type": "execute_result"
    }
   ],
   "source": [
    "p = ss.createDataFrame(p, [\"Rodovia\"]+list(params[list(params.keys())[0]].keys()))\n",
    "\n",
    "p.toPandas()"
   ]
  },
  {
   "cell_type": "code",
   "execution_count": 69,
   "id": "5faa2913-2467-4829-ae7e-55d551f38ade",
   "metadata": {},
   "outputs": [],
   "source": [
    "import queue\n"
   ]
  },
  {
   "cell_type": "code",
   "execution_count": 76,
   "id": "9e4cadb1-49c0-415f-b98d-048645ca1a90",
   "metadata": {},
   "outputs": [],
   "source": [
    "fps = 30\n",
    "vel_media = 0\n",
    "n_vel_media = 0\n",
    "\n",
    "tempo_medio = 0\n",
    "n_tempo_medio = 0\n",
    "\n",
    "def atualiza_media(media_atual, tamanho_atual, media_add, tamanho_add):\n",
    "    if media_add == None:\n",
    "        return media_atual\n",
    "    if tamanho_atual == 0:\n",
    "        return media_add\n",
    "    tamanho_total = tamanho_atual + tamanho_add\n",
    "    return (media_atual/tamanho_total)*tamanho_atual + (media_add/tamanho_total)*tamanho_add\n",
    "\n",
    "def processa_velocidade_media(batch):\n",
    "    global vel_media, n_vel_media\n",
    "    batch = batch.na.fill(0, subset=['velocidade'])\n",
    "    vel_media_batch = batch.agg(F.mean('velocidade')).collect()[0][0]\n",
    "    length_batch = batch.select(F.count('velocidade')).collect()[0][0]\n",
    "    n_vel_media += length_batch\n",
    "    vel_media = atualiza_media(vel_media, n_vel_media, vel_media_batch, length_batch)\n",
    "    pass\n",
    "\n",
    "def processa_tempo_cruzamento(batch):\n",
    "    global n_tempo_medio, tempo_medio\n",
    "    batch = batch.filter(col(\"tempo_em_curso\") != 0)\n",
    "    tempo_medio_batch = batch.agg(F.mean('tempo_em_curso')).collect()[0][0]\n",
    "    length_batch = batch.select(F.count('tempo_em_curso')).collect()[0][0]\n",
    "    n_tempo_medio += length_batch\n",
    "    tempo_medio = atualiza_media(tempo_medio, n_tempo_medio, tempo_medio_batch, length_batch)\n",
    "    pass\n",
    "\n",
    "def processa_carro(DadosNovos, DadosCarros, colision_tolerance, colision_tolerance_quad, Parametros):\n",
    "    DadosCarros = DadosCarros.drop('aplicaMulta')\n",
    "\n",
    "    # Renomeia coluna do dado novo\n",
    "    DadosNovos = DadosNovos.select(F.col('pos_y').alias('posicao_nova'), F.col('rodovia').alias('rodovia_nova'),\n",
    "                                   F.col('pos_x').alias('faixa_nova'),\n",
    "                                   F.col('tempo_da_simulacao').alias('tempo_da_simulacao_novo'),F.col('placa'))\n",
    "    \n",
    "    data_joined = DadosCarros.join(DadosNovos, on=\"placa\", how='right')\n",
    "    \n",
    "    CarrosSumidos = DadosCarros.join(DadosNovos, on=\"placa\", how='left_anti')\n",
    "    processa_tempo_cruzamento(CarrosSumidos)\n",
    "    data_joined = data_joined.withColumn(\"tempo_inicio\", when(col(\"tempo_da_simulacao\").isNull(), col(\"tempo_da_simulacao_novo\")).otherwise(col(\"tempo_da_simulacao\")))\n",
    "    data_joined = data_joined.withColumn(\"tempo_em_curso\", col(\"tempo_da_simulacao_novo\") - col(\"tempo_inicio\"))\n",
    "    data_joined = data_joined.withColumn(\"rodovia\", coalesce(col(\"rodovia_nova\"), col(\"rodovia\")))\n",
    "    data_joined = data_joined.withColumn(\"faixa\", coalesce(col(\"faixa_nova\"), col(\"faixa\")))\n",
    "    data_joined = data_joined.drop(\"rodovia_nova\", \"faixa_nova\")\n",
    "    \n",
    "    data_joined = data_joined.withColumn(\"diferenca_de_posicao\", col(\"posicao_nova\") - col(\"posicao\"))\n",
    "    \n",
    "    data_joined = data_joined.withColumn(\"diferenca_de_horario\", (col(\"tempo_da_simulacao_novo\") - col(\"tempo_da_simulacao\"))*fps)\n",
    "\n",
    "    data_joined = data_joined.withColumnRenamed(\"velocidade\", \"velocidade_antiga\")\n",
    "\n",
    "    data_joined = data_joined.withColumn(\"velocidade\", col(\"diferenca_de_posicao\") / col(\"diferenca_de_horario\"))\n",
    "    processa_velocidade_media(data_joined)\n",
    "    \n",
    "    data_joined = data_joined.withColumn(\"diferenca_de_velocidade\", col(\"velocidade\") - col(\"velocidade_antiga\"))\n",
    "\n",
    "    data_joined = data_joined.withColumn(\"aceleracao\", col(\"diferenca_de_velocidade\") / col(\"diferenca_de_horario\"))\n",
    "\n",
    "    data_joined = data_joined.drop(\"velocidade_antiga\", \"posicao\", \"tempo_da_simulacao\",\n",
    "                     \"diferenca_de_posicao\", \"diferenca_de_horario\",\n",
    "                     \"diferenca_de_velocidade\")\n",
    "\n",
    "    data_joined = data_joined.withColumnRenamed(\"posicao_nova\", \"posicao\")\n",
    "\n",
    "    data_joined = data_joined.withColumnRenamed(\"tempo_da_simulacao_novo\", \"tempo_da_simulacao\")\n",
    "\n",
    "    data_joined = data_joined.withColumn(\"posicao_prevista\", col(\"posicao\")\\\n",
    "                           + col(\"velocidade\")*colision_tolerance\\\n",
    "                           + col(\"aceleracao\")*colision_tolerance_quad)\n",
    "\n",
    "    Velocidades_Maximas = Parametros.select(F.col('rodovia'), F.col(\"VelocidadeMaxima\"))\n",
    "    data_joined = data_joined.join(Velocidades_Maximas, on=\"rodovia\", how=\"left\")\n",
    "\n",
    "    acima_vel_df = data_joined.select(F.col('placa'), F.col('acima_vel').alias('acima_vel_antigo'))\n",
    "    data_joined = data_joined.withColumn(\"acima_vel\", F.when(F.abs(data_joined[\"velocidade\"]) > F.abs(fps/data_joined[\"VelocidadeMaxima\"]), 1).otherwise(0))\n",
    "\n",
    "    acima_vel_df = acima_vel_df.join(data_joined.select(F.col('placa'), F.col('acima_vel').alias('acima_vel_novo')), on='placa', how=\"left\")\n",
    "    acima_vel_df = acima_vel_df.withColumn(\"aplicaMulta\", (F.col('acima_vel_antigo')==0) &  (F.col('acima_vel_novo')==1) )\n",
    "\n",
    "    data_joined = data_joined.join(acima_vel_df.select(F.col('placa'), F.col('aplicaMulta')), on='placa', how='left')\n",
    "\n",
    "    data_joined = data_joined.drop(\"VelocidadeMaxima\")\n",
    "\n",
    "    window_spec = Window.partitionBy(\"rodovia\", \"faixa\").orderBy('posicao')\n",
    "    \n",
    "    # Use lag function with the window specification\n",
    "    lag_column = col(\"posicao_prevista\") - lag(col(\"posicao_prevista\")).over(window_spec)\n",
    "    lead_column = lead(col(\"posicao_prevista\")).over(window_spec) - col(\"posicao_prevista\")\n",
    "\n",
    "    \n",
    "    # Add the lag column to the DataFrame\n",
    "    data_joined = data_joined.withColumn(\"Risco_Colisão\", when(((lag_column < 0) & (col(\"rodovia\") == lag(col(\"rodovia\")).over(window_spec)) & (col(\"rodovia\") == lag(col(\"rodovia\")).over(window_spec)))| ((lead_column < 0) & (col(\"rodovia\") == lead(col(\"rodovia\")).over(window_spec)) & (col(\"rodovia\") == lead(col(\"rodovia\")).over(window_spec))), 1).otherwise(0))\n",
    "    \n",
    "    # Show the result\n",
    "    return data_joined\n",
    "    "
   ]
  },
  {
   "cell_type": "code",
   "execution_count": 77,
   "id": "6d5d8999-3b56-4278-b474-3fd0f209050c",
   "metadata": {},
   "outputs": [
    {
     "name": "stdout",
     "output_type": "stream",
     "text": [
      "+-----+-------+-----+-------+------------------+----------+----------+----------------+---------+-----------+--------------+\n",
      "|placa|posicao|faixa|rodovia|tempo_da_simulacao|velocidade|aceleracao|posicao_prevista|acima_vel|aplicaMulta|tempo_em_curso|\n",
      "+-----+-------+-----+-------+------------------+----------+----------+----------------+---------+-----------+--------------+\n",
      "+-----+-------+-----+-------+------------------+----------+----------+----------------+---------+-----------+--------------+\n",
      "\n"
     ]
    }
   ],
   "source": [
    "df_empty.show()"
   ]
  },
  {
   "cell_type": "code",
   "execution_count": 78,
   "id": "10c36cec-dce4-4800-a073-59778241b2cf",
   "metadata": {},
   "outputs": [],
   "source": [
    "df3 = processa_carro(df, df_empty, 1, 0.5, p)"
   ]
  },
  {
   "cell_type": "code",
   "execution_count": 79,
   "id": "494187c2-026f-4266-bc67-f6174c77fdc9",
   "metadata": {},
   "outputs": [],
   "source": [
    "df3 = processa_carro(df2, df3, 1, 0.5, p)"
   ]
  },
  {
   "cell_type": "code",
   "execution_count": 80,
   "id": "41ec68e6-fb26-4551-bcc5-fa3062fc4be4",
   "metadata": {},
   "outputs": [],
   "source": [
    "df4 = processa_carro(df25, df3, 1, 0.5, p)"
   ]
  },
  {
   "cell_type": "code",
   "execution_count": 81,
   "id": "7257280c-9082-47ef-8022-2aec353daf46",
   "metadata": {},
   "outputs": [
    {
     "name": "stdout",
     "output_type": "stream",
     "text": [
      "+-------+-------+-----+--------------------+------------------+---------+--------------+------------+-------------+------------------+------------------+-------------------+-----------+\n",
      "|  placa|rodovia|faixa|          aceleracao|  posicao_prevista|acima_vel|tempo_em_curso|tempo_inicio|Risco_Colisão|           posicao|tempo_da_simulacao|         velocidade|aplicaMulta|\n",
      "+-------+-------+-----+--------------------+------------------+---------+--------------+------------+-------------+------------------+------------------+-------------------+-----------+\n",
      "|GUY1X23| BR-116|385.0|-0.11133333333333346|460.51600000000036|        0|             1|         143|            0|459.75000000000034|               144| 0.8216666666666678|      false|\n",
      "|PAR7P89| BR-116|475.0| -0.0753333333333335| 319.1373333333335|        0|             1|         143|            0| 317.5500000000002|               144|              1.625|      false|\n",
      "|ECU6I78| BR-116|565.0| -0.3493333333333336| 242.7153333333334|        0|             1|         143|            0|245.55000000000007|               144|-2.6600000000000024|      false|\n",
      "|URU4O56| BR-116|565.0| -0.1546666666666667| 797.0076666666673|        1|             1|         143|            0| 800.5500000000006|               144|-3.4650000000000016|       true|\n",
      "|ARG5B67| BR-116|655.0|-0.01111111111111111|146.46111111110983|        0|             1|         143|            0|146.99999999999872|               144|-0.5333333333333333|      false|\n",
      "|SUR8W90| BR-116|745.0|0.004833333333333359| 753.6474166666667|        0|             1|         143|            0|             753.5|               144|0.14500000000000077|      false|\n",
      "|CHI6S78| BR-116|745.0|0.048888888888888885| 776.0244444444445|        0|             1|         143|            0|             776.0|               144|                0.0|      false|\n",
      "|URU6M78| BR-116|745.0|                null|              null|        0|             1|         143|            0|            800.75|               144|-0.8666666666666667|      false|\n",
      "|URU0A12| BR-116|835.0| 0.08888888888888888| 660.0111111111112|        0|             1|         143|            0|             658.5|               144| 1.4666666666666666|      false|\n",
      "+-------+-------+-----+--------------------+------------------+---------+--------------+------------+-------------+------------------+------------------+-------------------+-----------+\n",
      "\n"
     ]
    }
   ],
   "source": [
    "df4.show()"
   ]
  },
  {
   "cell_type": "code",
   "execution_count": null,
   "id": "f7eb11ff-d65f-4466-b934-4d4e7d507c9c",
   "metadata": {},
   "outputs": [],
   "source": [
    "vel_media"
   ]
  },
  {
   "cell_type": "code",
   "execution_count": null,
   "id": "0b7f9eca-c6c9-4acf-ae3f-8b453176aa95",
   "metadata": {},
   "outputs": [],
   "source": []
  },
  {
   "cell_type": "code",
   "execution_count": null,
   "id": "49973c54-8e60-498c-961a-2a38c300d045",
   "metadata": {},
   "outputs": [],
   "source": []
  },
  {
   "cell_type": "code",
   "execution_count": null,
   "id": "4f2a8427-060c-4a0d-9028-b4d87a0a4def",
   "metadata": {},
   "outputs": [],
   "source": []
  }
 ],
 "metadata": {
  "kernelspec": {
   "display_name": "Python 3 (ipykernel)",
   "language": "python",
   "name": "python3"
  },
  "language_info": {
   "codemirror_mode": {
    "name": "ipython",
    "version": 3
   },
   "file_extension": ".py",
   "mimetype": "text/x-python",
   "name": "python",
   "nbconvert_exporter": "python",
   "pygments_lexer": "ipython3",
   "version": "3.11.3"
  }
 },
 "nbformat": 4,
 "nbformat_minor": 5
}

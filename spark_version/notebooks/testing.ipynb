{
 "cells": [
  {
   "cell_type": "code",
   "execution_count": 31,
   "id": "92314900-b3b6-4ed7-86a9-a26474046fb8",
   "metadata": {},
   "outputs": [
    {
     "name": "stderr",
     "output_type": "stream",
     "text": [
      "/usr/local/spark/python/pyspark/sql/context.py:112: FutureWarning: Deprecated in 3.0.0. Use SparkSession.builder.getOrCreate() instead.\n",
      "  warnings.warn(\n"
     ]
    }
   ],
   "source": [
    "import pandas as pd\n",
    "import numpy as np\n",
    "import matplotlib.pyplot as plt\n",
    "import seaborn as sns\n",
    "from pyspark.sql.types import * \n",
    "from pyspark.sql import SparkSession, DataFrame as SparkDataFrame\n",
    "import pyspark.sql.functions as F\n",
    "from pyspark.sql.functions import col,isnan, when, count, coalesce\n",
    "from pyspark import SparkContext\n",
    "from pyspark.sql import SQLContext\n",
    "import json\n",
    "from functools import reduce\n",
    "import sys\n",
    "from cassandra.cluster import Cluster\n",
    "import os\n",
    "# from mock.tasks import adiciona_carro\n",
    "cluster = Cluster(['cassandra'])\n",
    "session = cluster.connect()\n",
    "\n",
    "ss = SparkSession.builder.appName(\"test\").getOrCreate()\n",
    "sql = SQLContext(ss)"
   ]
  },
  {
   "cell_type": "code",
   "execution_count": 32,
   "id": "4ace41b7-0602-4d30-8fc2-4a41b884dea5",
   "metadata": {},
   "outputs": [
    {
     "data": {
      "text/plain": [
       "<cassandra.cluster.ResultSet at 0x7f5495113990>"
      ]
     },
     "execution_count": 32,
     "metadata": {},
     "output_type": "execute_result"
    }
   ],
   "source": [
    "session.execute(\"USE simulacao\")"
   ]
  },
  {
   "cell_type": "code",
   "execution_count": 33,
   "id": "99159133-eb27-440d-9e2f-24f9f9e3ae0e",
   "metadata": {},
   "outputs": [
    {
     "name": "stderr",
     "output_type": "stream",
     "text": [
      "/tmp/ipykernel_344/795349805.py:1: DeprecationWarning: ResultSet indexing support will be removed in 4.0. Consider using ResultSet.one() to get a single row.\n",
      "  session.execute(\"select count(*) from simulacao\")[0]\n"
     ]
    },
    {
     "data": {
      "text/plain": [
       "Row(count=3134)"
      ]
     },
     "execution_count": 33,
     "metadata": {},
     "output_type": "execute_result"
    }
   ],
   "source": [
    "session.execute(\"select count(*) from simulacao\")[0]"
   ]
  },
  {
   "cell_type": "code",
   "execution_count": 34,
   "id": "160193c9-855e-4797-baf4-e9967e76c8a9",
   "metadata": {},
   "outputs": [],
   "source": [
    "result = session.execute(\"SELECT * FROM simulacao WHERE tempo_da_simulacao = 142 ALLOW FILTERING;\")"
   ]
  },
  {
   "cell_type": "code",
   "execution_count": 35,
   "id": "849c8f85-bcf0-4f98-bc45-1bcda2f196d7",
   "metadata": {},
   "outputs": [
    {
     "name": "stderr",
     "output_type": "stream",
     "text": [
      "/tmp/ipykernel_344/223460175.py:1: DeprecationWarning: ResultSet indexing support will be removed in 4.0. Consider using ResultSet.one() to get a single row.\n",
      "  result[0]\n"
     ]
    },
    {
     "data": {
      "text/plain": [
       "Row(rodovia='BR-116', tempo_da_simulacao=142, placa='ARG5B67', pos_x=655.0, pos_y=168.99999999999872)"
      ]
     },
     "execution_count": 35,
     "metadata": {},
     "output_type": "execute_result"
    }
   ],
   "source": [
    "result[0]"
   ]
  },
  {
   "cell_type": "code",
   "execution_count": 36,
   "id": "526f2e12-46d5-4b63-84af-fd66bba99e78",
   "metadata": {},
   "outputs": [],
   "source": [
    "r = list(result)"
   ]
  },
  {
   "cell_type": "code",
   "execution_count": 37,
   "id": "fac82b92-0f58-4fc1-ab9c-61a7b43475f5",
   "metadata": {},
   "outputs": [
    {
     "data": {
      "text/plain": [
       "[Row(rodovia='BR-116', tempo_da_simulacao=142, placa='ARG5B67', pos_x=655.0, pos_y=168.99999999999872),\n",
       " Row(rodovia='BR-116', tempo_da_simulacao=142, placa='CHI6S78', pos_x=745.0, pos_y=820.0),\n",
       " Row(rodovia='BR-116', tempo_da_simulacao=142, placa='ECU6I78', pos_x=565.0, pos_y=90.75),\n",
       " Row(rodovia='BR-116', tempo_da_simulacao=142, placa='GUY1X23', pos_x=385.0, pos_y=310.25000000000017),\n",
       " Row(rodovia='BR-116', tempo_da_simulacao=142, placa='PAR7P89', pos_x=475.0, pos_y=152.25000000000003),\n",
       " Row(rodovia='BR-116', tempo_da_simulacao=142, placa='SUR8W90', pos_x=745.0, pos_y=749.15),\n",
       " Row(rodovia='BR-116', tempo_da_simulacao=142, placa='URU0A12', pos_x=835.0, pos_y=650.5),\n",
       " Row(rodovia='BR-116', tempo_da_simulacao=142, placa='URU4O56', pos_x=565.0, pos_y=869.2500000000007)]"
      ]
     },
     "execution_count": 37,
     "metadata": {},
     "output_type": "execute_result"
    }
   ],
   "source": [
    "r"
   ]
  },
  {
   "cell_type": "code",
   "execution_count": 38,
   "id": "c3fdcb69-e1a0-4b9b-a471-ab26947be0e4",
   "metadata": {},
   "outputs": [
    {
     "name": "stdout",
     "output_type": "stream",
     "text": [
      "+-------+------------------+-------+-----+------------------+\n",
      "|rodovia|tempo_da_simulacao|  placa|pos_x|             pos_y|\n",
      "+-------+------------------+-------+-----+------------------+\n",
      "| BR-116|               142|ARG5B67|655.0|168.99999999999872|\n",
      "| BR-116|               142|CHI6S78|745.0|             820.0|\n",
      "| BR-116|               142|ECU6I78|565.0|             90.75|\n",
      "| BR-116|               142|GUY1X23|385.0|310.25000000000017|\n",
      "| BR-116|               142|PAR7P89|475.0|152.25000000000003|\n",
      "| BR-116|               142|SUR8W90|745.0|            749.15|\n",
      "| BR-116|               142|URU0A12|835.0|             650.5|\n",
      "| BR-116|               142|URU4O56|565.0| 869.2500000000007|\n",
      "+-------+------------------+-------+-----+------------------+\n",
      "\n"
     ]
    }
   ],
   "source": [
    "df = ss.createDataFrame(r)\n",
    "\n",
    "df.show()"
   ]
  },
  {
   "cell_type": "code",
   "execution_count": 39,
   "id": "5598ccb7-819d-48c2-b658-c73efc8f8713",
   "metadata": {},
   "outputs": [
    {
     "name": "stdout",
     "output_type": "stream",
     "text": [
      "+-------+------------------+-------+-----+------------------+\n",
      "|rodovia|tempo_da_simulacao|  placa|pos_x|             pos_y|\n",
      "+-------+------------------+-------+-----+------------------+\n",
      "| BR-116|               143|ARG5B67|655.0|162.99999999999872|\n",
      "| BR-116|               143|CHI6S78|745.0|             776.0|\n",
      "| BR-116|               143|ECU6I78|565.0|325.35000000000014|\n",
      "| BR-116|               143|GUY1X23|385.0| 435.1000000000003|\n",
      "| BR-116|               143|PAR7P89|475.0| 268.8000000000002|\n",
      "| BR-116|               143|SUR8W90|745.0|            749.15|\n",
      "| BR-116|               143|URU0A12|835.0|             614.5|\n",
      "| BR-116|               143|URU4O56|565.0| 904.5000000000007|\n",
      "| BR-116|               143|URU6M78|655.0|            826.75|\n",
      "+-------+------------------+-------+-----+------------------+\n",
      "\n"
     ]
    }
   ],
   "source": [
    "result = session.execute(\"SELECT * FROM simulacao WHERE tempo_da_simulacao = 143 ALLOW FILTERING;\")\n",
    "r = list(result)\n",
    "df2 = ss.createDataFrame(r)\n",
    "df2.show()"
   ]
  },
  {
   "cell_type": "code",
   "execution_count": 40,
   "id": "3abcc112-8579-44f7-97c4-7ae5ea61b0e6",
   "metadata": {},
   "outputs": [
    {
     "name": "stdout",
     "output_type": "stream",
     "text": [
      "+-------+------------------+-------+-----+------------------+\n",
      "|rodovia|tempo_da_simulacao|  placa|pos_x|             pos_y|\n",
      "+-------+------------------+-------+-----+------------------+\n",
      "| BR-116|               144|ARG5B67|655.0|146.99999999999872|\n",
      "| BR-116|               144|CHI6S78|745.0|             776.0|\n",
      "| BR-116|               144|ECU6I78|565.0|245.55000000000007|\n",
      "| BR-116|               144|GUY1X23|385.0|459.75000000000034|\n",
      "| BR-116|               144|PAR7P89|475.0| 317.5500000000002|\n",
      "| BR-116|               144|SUR8W90|745.0|             753.5|\n",
      "| BR-116|               144|URU0A12|835.0|             658.5|\n",
      "| BR-116|               144|URU4O56|565.0| 800.5500000000006|\n",
      "| BR-116|               144|URU6M78|745.0|            800.75|\n",
      "+-------+------------------+-------+-----+------------------+\n",
      "\n"
     ]
    }
   ],
   "source": [
    "result = session.execute(\"SELECT * FROM simulacao WHERE tempo_da_simulacao = 144 ALLOW FILTERING;\")\n",
    "r = list(result)\n",
    "df25 = ss.createDataFrame(r)\n",
    "df25.show()"
   ]
  },
  {
   "cell_type": "code",
   "execution_count": 41,
   "id": "adb8bf4a-8358-4fec-acdd-8a8922b052aa",
   "metadata": {},
   "outputs": [],
   "source": [
    "df_empty = ss.createDataFrame([], \"placa: string, posicao: int, linha: int, rodovia: string, tempo_da_simulacao: int, velocidade: double, aceleracao: double, posicao_prevista: double, acima_vel: boolean, aplicaMulta: boolean\")"
   ]
  },
  {
   "cell_type": "code",
   "execution_count": 42,
   "id": "6502d2f2-4070-4fa7-ba5a-67d28e17f656",
   "metadata": {},
   "outputs": [],
   "source": [
    "import json\n",
    "params = json.load(open('./mock/parametros.json'))"
   ]
  },
  {
   "cell_type": "code",
   "execution_count": 43,
   "id": "2455de12-32b8-47f1-b1c2-3fd40ceaa406",
   "metadata": {},
   "outputs": [],
   "source": [
    "p = [[key]+list(params[key].values()) for key in params.keys()]"
   ]
  },
  {
   "cell_type": "code",
   "execution_count": 44,
   "id": "6f67878d-5e54-4270-9a17-f43f9a25464c",
   "metadata": {},
   "outputs": [
    {
     "data": {
      "text/html": [
       "<div>\n",
       "<style scoped>\n",
       "    .dataframe tbody tr th:only-of-type {\n",
       "        vertical-align: middle;\n",
       "    }\n",
       "\n",
       "    .dataframe tbody tr th {\n",
       "        vertical-align: top;\n",
       "    }\n",
       "\n",
       "    .dataframe thead th {\n",
       "        text-align: right;\n",
       "    }\n",
       "</style>\n",
       "<table border=\"1\" class=\"dataframe\">\n",
       "  <thead>\n",
       "    <tr style=\"text-align: right;\">\n",
       "      <th></th>\n",
       "      <th>Rodovia</th>\n",
       "      <th>sentido1Name</th>\n",
       "      <th>sentido2Name</th>\n",
       "      <th>sentido1Faixas</th>\n",
       "      <th>sentido2Faixas</th>\n",
       "      <th>probabilidadeDeEntradaDeVeiculo</th>\n",
       "      <th>velocidadeMaxima</th>\n",
       "      <th>velocidadeMinima</th>\n",
       "      <th>AceleracaoMaxima</th>\n",
       "      <th>AceleracaoMinima</th>\n",
       "      <th>probabilidadeDeTrocaDeFaixa</th>\n",
       "      <th>probabilidadeColisao</th>\n",
       "      <th>tempoColisao</th>\n",
       "      <th>kilometroInicial</th>\n",
       "      <th>interfaceGrafica</th>\n",
       "      <th>tamanhoCarro</th>\n",
       "    </tr>\n",
       "  </thead>\n",
       "  <tbody>\n",
       "    <tr>\n",
       "      <th>0</th>\n",
       "      <td>BR-040</td>\n",
       "      <td>Brasilia</td>\n",
       "      <td>Rio de Janeiro</td>\n",
       "      <td>3</td>\n",
       "      <td>3</td>\n",
       "      <td>0.9</td>\n",
       "      <td>10</td>\n",
       "      <td>2</td>\n",
       "      <td>0.10</td>\n",
       "      <td>0.01</td>\n",
       "      <td>0.3</td>\n",
       "      <td>0.1</td>\n",
       "      <td>3000</td>\n",
       "      <td>100</td>\n",
       "      <td>True</td>\n",
       "      <td>74</td>\n",
       "    </tr>\n",
       "    <tr>\n",
       "      <th>1</th>\n",
       "      <td>BR-116</td>\n",
       "      <td>Fortaleza</td>\n",
       "      <td>Rio Grande do Sul</td>\n",
       "      <td>3</td>\n",
       "      <td>3</td>\n",
       "      <td>0.8</td>\n",
       "      <td>9</td>\n",
       "      <td>2</td>\n",
       "      <td>0.15</td>\n",
       "      <td>0.05</td>\n",
       "      <td>0.5</td>\n",
       "      <td>0.1</td>\n",
       "      <td>3000</td>\n",
       "      <td>100</td>\n",
       "      <td>False</td>\n",
       "      <td>74</td>\n",
       "    </tr>\n",
       "    <tr>\n",
       "      <th>2</th>\n",
       "      <td>BR-135</td>\n",
       "      <td>Belo Horizonte</td>\n",
       "      <td>São Luís</td>\n",
       "      <td>3</td>\n",
       "      <td>3</td>\n",
       "      <td>0.9</td>\n",
       "      <td>12</td>\n",
       "      <td>3</td>\n",
       "      <td>0.20</td>\n",
       "      <td>0.05</td>\n",
       "      <td>0.3</td>\n",
       "      <td>0.1</td>\n",
       "      <td>3000</td>\n",
       "      <td>100</td>\n",
       "      <td>False</td>\n",
       "      <td>74</td>\n",
       "    </tr>\n",
       "    <tr>\n",
       "      <th>3</th>\n",
       "      <td>BR-393</td>\n",
       "      <td>Cachoeiro de Itapemirim</td>\n",
       "      <td>Barra Mansa</td>\n",
       "      <td>2</td>\n",
       "      <td>2</td>\n",
       "      <td>0.9</td>\n",
       "      <td>8</td>\n",
       "      <td>2</td>\n",
       "      <td>0.10</td>\n",
       "      <td>0.01</td>\n",
       "      <td>0.5</td>\n",
       "      <td>0.1</td>\n",
       "      <td>3000</td>\n",
       "      <td>100</td>\n",
       "      <td>False</td>\n",
       "      <td>74</td>\n",
       "    </tr>\n",
       "  </tbody>\n",
       "</table>\n",
       "</div>"
      ],
      "text/plain": [
       "  Rodovia             sentido1Name       sentido2Name  sentido1Faixas  \\\n",
       "0  BR-040                 Brasilia     Rio de Janeiro               3   \n",
       "1  BR-116                Fortaleza  Rio Grande do Sul               3   \n",
       "2  BR-135           Belo Horizonte           São Luís               3   \n",
       "3  BR-393  Cachoeiro de Itapemirim        Barra Mansa               2   \n",
       "\n",
       "   sentido2Faixas  probabilidadeDeEntradaDeVeiculo  velocidadeMaxima  \\\n",
       "0               3                              0.9                10   \n",
       "1               3                              0.8                 9   \n",
       "2               3                              0.9                12   \n",
       "3               2                              0.9                 8   \n",
       "\n",
       "   velocidadeMinima  AceleracaoMaxima  AceleracaoMinima  \\\n",
       "0                 2              0.10              0.01   \n",
       "1                 2              0.15              0.05   \n",
       "2                 3              0.20              0.05   \n",
       "3                 2              0.10              0.01   \n",
       "\n",
       "   probabilidadeDeTrocaDeFaixa  probabilidadeColisao  tempoColisao  \\\n",
       "0                          0.3                   0.1          3000   \n",
       "1                          0.5                   0.1          3000   \n",
       "2                          0.3                   0.1          3000   \n",
       "3                          0.5                   0.1          3000   \n",
       "\n",
       "   kilometroInicial  interfaceGrafica  tamanhoCarro  \n",
       "0               100              True            74  \n",
       "1               100             False            74  \n",
       "2               100             False            74  \n",
       "3               100             False            74  "
      ]
     },
     "execution_count": 44,
     "metadata": {},
     "output_type": "execute_result"
    }
   ],
   "source": [
    "p = ss.createDataFrame(p, [\"Rodovia\"]+list(params[list(params.keys())[0]].keys()))\n",
    "\n",
    "p.toPandas()"
   ]
  },
  {
   "cell_type": "code",
   "execution_count": 45,
   "id": "5faa2913-2467-4829-ae7e-55d551f38ade",
   "metadata": {},
   "outputs": [],
   "source": [
    "import queue\n"
   ]
  },
  {
   "cell_type": "code",
   "execution_count": 82,
   "id": "9e4cadb1-49c0-415f-b98d-048645ca1a90",
   "metadata": {},
   "outputs": [],
   "source": [
    "fps = 30\n",
    "\n",
    "def processa_carro(DadosNovos, DadosCarros, colision_tolerance, colision_tolerance_quad, Parametros):\n",
    "    DadosCarros = DadosCarros.drop('aplicaMulta')\n",
    "\n",
    "    # Renomeia coluna do dado novo\n",
    "    DadosNovos = DadosNovos.select(F.col('pos_y').alias('posicao_nova'), F.col('rodovia').alias('rodovia_nova'),\n",
    "                                   F.col('pos_x').alias('linha_nova'),\n",
    "                      F.col('tempo_da_simulacao').alias('tempo_da_simulacao_novo'),F.col('placa'))\n",
    "    data_joined = DadosCarros.join(DadosNovos, on=\"placa\", how='outer')\n",
    "    data_joined = data_joined.withColumn(\"rodovia\", coalesce(col(\"rodovia_nova\"), col(\"rodovia\")))\n",
    "    data_joined = data_joined.withColumn(\"linha\", coalesce(col(\"linha_nova\"), col(\"linha\")))\n",
    "    data_joined = data_joined.drop(\"rodovia_nova\", \"linha_nova\")\n",
    "    \n",
    "    data_joined = data_joined.withColumn(\"diferenca_de_posicao\", col(\"posicao_nova\") - col(\"posicao\"))\n",
    "    \n",
    "    data_joined = data_joined.withColumn(\"diferenca_de_horario\", (col(\"tempo_da_simulacao_novo\") - col(\"tempo_da_simulacao\"))*fps)\n",
    "\n",
    "    data_joined = data_joined.withColumnRenamed(\"velocidade\", \"velocidade_antiga\")\n",
    "\n",
    "    data_joined = data_joined.withColumn(\"velocidade\", col(\"diferenca_de_posicao\") / col(\"diferenca_de_horario\"))\n",
    "\n",
    "    data_joined = data_joined.withColumn(\"diferenca_de_velocidade\", col(\"velocidade\") - col(\"velocidade_antiga\"))\n",
    "\n",
    "    data_joined = data_joined.withColumn(\"aceleracao\", col(\"diferenca_de_velocidade\") / col(\"diferenca_de_horario\"))\n",
    "\n",
    "    data_joined = data_joined.drop(\"velocidade_antiga\", \"posicao\", \"tempo_da_simulacao\",\n",
    "                     \"diferenca_de_posicao\", \"diferenca_de_horario\",\n",
    "                     \"diferenca_de_velocidade\")\n",
    "\n",
    "    data_joined = data_joined.withColumnRenamed(\"posicao_nova\", \"posicao\")\n",
    "\n",
    "    data_joined = data_joined.withColumnRenamed(\"tempo_da_simulacao_novo\", \"tempo_da_simulacao\")\n",
    "\n",
    "    data_joined = data_joined.withColumn(\"posicao_prevista\", col(\"posicao\")\\\n",
    "                           + col(\"velocidade\")*colision_tolerance\\\n",
    "                           + col(\"aceleracao\")*colision_tolerance_quad)\n",
    "\n",
    "    Velocidades_Maximas = Parametros.select(F.col('rodovia'), F.col(\"VelocidadeMaxima\"))\n",
    "    data_joined = data_joined.join(Velocidades_Maximas, on=\"rodovia\", how=\"left\")\n",
    "\n",
    "    acima_vel_df = data_joined.select(F.col('placa'), F.col('acima_vel').alias('acima_vel_antigo'))\n",
    "    data_joined = data_joined.withColumn(\"acima_vel\", F.when(F.abs(data_joined[\"velocidade\"]) > F.abs(fps/data_joined[\"VelocidadeMaxima\"]), 1).otherwise(0))\n",
    "\n",
    "    acima_vel_df = acima_vel_df.join(data_joined.select(F.col('placa'), F.col('acima_vel').alias('acima_vel_novo')), on='placa', how=\"left\")\n",
    "    acima_vel_df = acima_vel_df.withColumn(\"aplicaMulta\", (F.col('acima_vel_antigo')==0) &  (F.col('acima_vel_novo')==1) )\n",
    "\n",
    "    data_joined = data_joined.join(acima_vel_df.select(F.col('placa'), F.col('aplicaMulta')), on='placa', how='left')\n",
    "\n",
    "    data_joined = data_joined.drop(\"VelocidadeMaxima\")\n",
    "    return data_joined\n",
    "    "
   ]
  },
  {
   "cell_type": "code",
   "execution_count": 83,
   "id": "6d5d8999-3b56-4278-b474-3fd0f209050c",
   "metadata": {},
   "outputs": [
    {
     "name": "stdout",
     "output_type": "stream",
     "text": [
      "+-----+-------+-----+-------+------------------+----------+----------+----------------+---------+-----------+\n",
      "|placa|posicao|linha|rodovia|tempo_da_simulacao|velocidade|aceleracao|posicao_prevista|acima_vel|aplicaMulta|\n",
      "+-----+-------+-----+-------+------------------+----------+----------+----------------+---------+-----------+\n",
      "+-----+-------+-----+-------+------------------+----------+----------+----------------+---------+-----------+\n",
      "\n"
     ]
    }
   ],
   "source": [
    "df_empty.show()"
   ]
  },
  {
   "cell_type": "code",
   "execution_count": 84,
   "id": "10c36cec-dce4-4800-a073-59778241b2cf",
   "metadata": {},
   "outputs": [],
   "source": [
    "df3 = processa_carro(df, df_empty, 1, 0.5, p)"
   ]
  },
  {
   "cell_type": "code",
   "execution_count": 85,
   "id": "494187c2-026f-4266-bc67-f6174c77fdc9",
   "metadata": {},
   "outputs": [],
   "source": [
    "df3 = processa_carro(df2, df3, 1, 0.5, p)"
   ]
  },
  {
   "cell_type": "code",
   "execution_count": 86,
   "id": "41ec68e6-fb26-4551-bcc5-fa3062fc4be4",
   "metadata": {},
   "outputs": [],
   "source": [
    "df4 = processa_carro(df25, df3, 1, 0.5, p).toPandas()"
   ]
  },
  {
   "cell_type": "code",
   "execution_count": 87,
   "id": "7257280c-9082-47ef-8022-2aec353daf46",
   "metadata": {},
   "outputs": [
    {
     "data": {
      "text/html": [
       "<div>\n",
       "<style scoped>\n",
       "    .dataframe tbody tr th:only-of-type {\n",
       "        vertical-align: middle;\n",
       "    }\n",
       "\n",
       "    .dataframe tbody tr th {\n",
       "        vertical-align: top;\n",
       "    }\n",
       "\n",
       "    .dataframe thead th {\n",
       "        text-align: right;\n",
       "    }\n",
       "</style>\n",
       "<table border=\"1\" class=\"dataframe\">\n",
       "  <thead>\n",
       "    <tr style=\"text-align: right;\">\n",
       "      <th></th>\n",
       "      <th>placa</th>\n",
       "      <th>rodovia</th>\n",
       "      <th>linha</th>\n",
       "      <th>aceleracao</th>\n",
       "      <th>posicao_prevista</th>\n",
       "      <th>acima_vel</th>\n",
       "      <th>posicao</th>\n",
       "      <th>tempo_da_simulacao</th>\n",
       "      <th>velocidade</th>\n",
       "      <th>aplicaMulta</th>\n",
       "    </tr>\n",
       "  </thead>\n",
       "  <tbody>\n",
       "    <tr>\n",
       "      <th>0</th>\n",
       "      <td>ARG5B67</td>\n",
       "      <td>BR-116</td>\n",
       "      <td>655.0</td>\n",
       "      <td>-0.011111</td>\n",
       "      <td>146.461111</td>\n",
       "      <td>0</td>\n",
       "      <td>147.00</td>\n",
       "      <td>144</td>\n",
       "      <td>-0.533333</td>\n",
       "      <td>False</td>\n",
       "    </tr>\n",
       "    <tr>\n",
       "      <th>1</th>\n",
       "      <td>CHI6S78</td>\n",
       "      <td>BR-116</td>\n",
       "      <td>745.0</td>\n",
       "      <td>0.048889</td>\n",
       "      <td>776.024444</td>\n",
       "      <td>0</td>\n",
       "      <td>776.00</td>\n",
       "      <td>144</td>\n",
       "      <td>0.000000</td>\n",
       "      <td>False</td>\n",
       "    </tr>\n",
       "    <tr>\n",
       "      <th>2</th>\n",
       "      <td>ECU6I78</td>\n",
       "      <td>BR-116</td>\n",
       "      <td>565.0</td>\n",
       "      <td>-0.349333</td>\n",
       "      <td>242.715333</td>\n",
       "      <td>0</td>\n",
       "      <td>245.55</td>\n",
       "      <td>144</td>\n",
       "      <td>-2.660000</td>\n",
       "      <td>False</td>\n",
       "    </tr>\n",
       "    <tr>\n",
       "      <th>3</th>\n",
       "      <td>GUY1X23</td>\n",
       "      <td>BR-116</td>\n",
       "      <td>385.0</td>\n",
       "      <td>-0.111333</td>\n",
       "      <td>460.516000</td>\n",
       "      <td>0</td>\n",
       "      <td>459.75</td>\n",
       "      <td>144</td>\n",
       "      <td>0.821667</td>\n",
       "      <td>False</td>\n",
       "    </tr>\n",
       "    <tr>\n",
       "      <th>4</th>\n",
       "      <td>PAR7P89</td>\n",
       "      <td>BR-116</td>\n",
       "      <td>475.0</td>\n",
       "      <td>-0.075333</td>\n",
       "      <td>319.137333</td>\n",
       "      <td>0</td>\n",
       "      <td>317.55</td>\n",
       "      <td>144</td>\n",
       "      <td>1.625000</td>\n",
       "      <td>False</td>\n",
       "    </tr>\n",
       "    <tr>\n",
       "      <th>5</th>\n",
       "      <td>SUR8W90</td>\n",
       "      <td>BR-116</td>\n",
       "      <td>745.0</td>\n",
       "      <td>0.004833</td>\n",
       "      <td>753.647417</td>\n",
       "      <td>0</td>\n",
       "      <td>753.50</td>\n",
       "      <td>144</td>\n",
       "      <td>0.145000</td>\n",
       "      <td>False</td>\n",
       "    </tr>\n",
       "    <tr>\n",
       "      <th>6</th>\n",
       "      <td>URU0A12</td>\n",
       "      <td>BR-116</td>\n",
       "      <td>835.0</td>\n",
       "      <td>0.088889</td>\n",
       "      <td>660.011111</td>\n",
       "      <td>0</td>\n",
       "      <td>658.50</td>\n",
       "      <td>144</td>\n",
       "      <td>1.466667</td>\n",
       "      <td>False</td>\n",
       "    </tr>\n",
       "    <tr>\n",
       "      <th>7</th>\n",
       "      <td>URU4O56</td>\n",
       "      <td>BR-116</td>\n",
       "      <td>565.0</td>\n",
       "      <td>-0.154667</td>\n",
       "      <td>797.007667</td>\n",
       "      <td>1</td>\n",
       "      <td>800.55</td>\n",
       "      <td>144</td>\n",
       "      <td>-3.465000</td>\n",
       "      <td>True</td>\n",
       "    </tr>\n",
       "    <tr>\n",
       "      <th>8</th>\n",
       "      <td>URU6M78</td>\n",
       "      <td>BR-116</td>\n",
       "      <td>745.0</td>\n",
       "      <td>NaN</td>\n",
       "      <td>NaN</td>\n",
       "      <td>0</td>\n",
       "      <td>800.75</td>\n",
       "      <td>144</td>\n",
       "      <td>-0.866667</td>\n",
       "      <td>False</td>\n",
       "    </tr>\n",
       "  </tbody>\n",
       "</table>\n",
       "</div>"
      ],
      "text/plain": [
       "     placa rodovia  linha  aceleracao  posicao_prevista  acima_vel  posicao  \\\n",
       "0  ARG5B67  BR-116  655.0   -0.011111        146.461111          0   147.00   \n",
       "1  CHI6S78  BR-116  745.0    0.048889        776.024444          0   776.00   \n",
       "2  ECU6I78  BR-116  565.0   -0.349333        242.715333          0   245.55   \n",
       "3  GUY1X23  BR-116  385.0   -0.111333        460.516000          0   459.75   \n",
       "4  PAR7P89  BR-116  475.0   -0.075333        319.137333          0   317.55   \n",
       "5  SUR8W90  BR-116  745.0    0.004833        753.647417          0   753.50   \n",
       "6  URU0A12  BR-116  835.0    0.088889        660.011111          0   658.50   \n",
       "7  URU4O56  BR-116  565.0   -0.154667        797.007667          1   800.55   \n",
       "8  URU6M78  BR-116  745.0         NaN               NaN          0   800.75   \n",
       "\n",
       "   tempo_da_simulacao  velocidade  aplicaMulta  \n",
       "0                 144   -0.533333        False  \n",
       "1                 144    0.000000        False  \n",
       "2                 144   -2.660000        False  \n",
       "3                 144    0.821667        False  \n",
       "4                 144    1.625000        False  \n",
       "5                 144    0.145000        False  \n",
       "6                 144    1.466667        False  \n",
       "7                 144   -3.465000         True  \n",
       "8                 144   -0.866667        False  "
      ]
     },
     "execution_count": 87,
     "metadata": {},
     "output_type": "execute_result"
    }
   ],
   "source": [
    "df4"
   ]
  },
  {
   "cell_type": "code",
   "execution_count": null,
   "id": "0b7f9eca-c6c9-4acf-ae3f-8b453176aa95",
   "metadata": {},
   "outputs": [],
   "source": []
  },
  {
   "cell_type": "code",
   "execution_count": null,
   "id": "49973c54-8e60-498c-961a-2a38c300d045",
   "metadata": {},
   "outputs": [],
   "source": []
  }
 ],
 "metadata": {
  "kernelspec": {
   "display_name": "Python 3 (ipykernel)",
   "language": "python",
   "name": "python3"
  },
  "language_info": {
   "codemirror_mode": {
    "name": "ipython",
    "version": 3
   },
   "file_extension": ".py",
   "mimetype": "text/x-python",
   "name": "python",
   "nbconvert_exporter": "python",
   "pygments_lexer": "ipython3",
   "version": "3.11.3"
  }
 },
 "nbformat": 4,
 "nbformat_minor": 5
}

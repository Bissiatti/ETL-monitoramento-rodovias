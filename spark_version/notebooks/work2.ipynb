{
 "cells": [
  {
   "cell_type": "code",
   "execution_count": 1,
   "id": "92314900-b3b6-4ed7-86a9-a26474046fb8",
   "metadata": {},
   "outputs": [
    {
     "name": "stderr",
     "output_type": "stream",
     "text": [
      "/usr/local/spark/python/pyspark/sql/context.py:112: FutureWarning: Deprecated in 3.0.0. Use SparkSession.builder.getOrCreate() instead.\n",
      "  warnings.warn(\n"
     ]
    }
   ],
   "source": [
    "import pandas as pd\n",
    "import numpy as np\n",
    "import matplotlib.pyplot as plt\n",
    "import seaborn as sns\n",
    "from pyspark.sql.types import * \n",
    "from pyspark.sql import SparkSession, DataFrame as SparkDataFrame\n",
    "import pyspark.sql.functions as F\n",
    "from pyspark.sql.functions import col,isnan, when, count, coalesce\n",
    "from pyspark import SparkContext\n",
    "from pyspark.sql import SQLContext\n",
    "import json\n",
    "from functools import reduce\n",
    "import sys\n",
    "from cassandra.cluster import Cluster\n",
    "import os\n",
    "# from mock.tasks import adiciona_carro\n",
    "cluster = Cluster(['cassandra'])\n",
    "session = cluster.connect()\n",
    "\n",
    "ss = SparkSession.builder.appName(\"test\").getOrCreate()\n",
    "sql = SQLContext(ss)"
   ]
  },
  {
   "cell_type": "code",
   "execution_count": 2,
   "id": "4ace41b7-0602-4d30-8fc2-4a41b884dea5",
   "metadata": {},
   "outputs": [
    {
     "data": {
      "text/plain": [
       "<cassandra.cluster.ResultSet at 0x7fcac7b8c050>"
      ]
     },
     "execution_count": 2,
     "metadata": {},
     "output_type": "execute_result"
    }
   ],
   "source": [
    "session.execute(\"USE simulacao\")"
   ]
  },
  {
   "cell_type": "code",
   "execution_count": 3,
   "id": "99159133-eb27-440d-9e2f-24f9f9e3ae0e",
   "metadata": {},
   "outputs": [
    {
     "name": "stderr",
     "output_type": "stream",
     "text": [
      "/tmp/ipykernel_6580/795349805.py:1: DeprecationWarning: ResultSet indexing support will be removed in 4.0. Consider using ResultSet.one() to get a single row.\n",
      "  session.execute(\"select count(*) from simulacao\")[0]\n"
     ]
    },
    {
     "data": {
      "text/plain": [
       "Row(count=3071)"
      ]
     },
     "execution_count": 3,
     "metadata": {},
     "output_type": "execute_result"
    }
   ],
   "source": [
    "session.execute(\"select count(*) from simulacao\")[0]"
   ]
  },
  {
   "cell_type": "code",
   "execution_count": 4,
   "id": "cb613872-5867-4e3c-b887-d5345b7f9002",
   "metadata": {},
   "outputs": [],
   "source": [
    "number = 170"
   ]
  },
  {
   "cell_type": "code",
   "execution_count": 5,
   "id": "160193c9-855e-4797-baf4-e9967e76c8a9",
   "metadata": {},
   "outputs": [],
   "source": [
    "result = session.execute(\"SELECT * FROM simulacao WHERE tempo_da_simulacao = \"+str(number)+\" ALLOW FILTERING;\")"
   ]
  },
  {
   "cell_type": "code",
   "execution_count": 6,
   "id": "849c8f85-bcf0-4f98-bc45-1bcda2f196d7",
   "metadata": {},
   "outputs": [
    {
     "name": "stderr",
     "output_type": "stream",
     "text": [
      "/tmp/ipykernel_6580/223460175.py:1: DeprecationWarning: ResultSet indexing support will be removed in 4.0. Consider using ResultSet.one() to get a single row.\n",
      "  result[0]\n"
     ]
    },
    {
     "data": {
      "text/plain": [
       "Row(placa='BRA2A34', rodovia='BR-116', tempo_da_simulacao=170.0, pos_x=745.0, pos_y=842.75)"
      ]
     },
     "execution_count": 6,
     "metadata": {},
     "output_type": "execute_result"
    }
   ],
   "source": [
    "result[0]"
   ]
  },
  {
   "cell_type": "code",
   "execution_count": 7,
   "id": "526f2e12-46d5-4b63-84af-fd66bba99e78",
   "metadata": {},
   "outputs": [],
   "source": [
    "r = list(result)"
   ]
  },
  {
   "cell_type": "code",
   "execution_count": 8,
   "id": "fac82b92-0f58-4fc1-ab9c-61a7b43475f5",
   "metadata": {},
   "outputs": [
    {
     "data": {
      "text/plain": [
       "[Row(placa='BRA2A34', rodovia='BR-116', tempo_da_simulacao=170.0, pos_x=745.0, pos_y=842.75),\n",
       " Row(placa='URU2Y34', rodovia='BR-116', tempo_da_simulacao=170.0, pos_x=655.0, pos_y=-31.500000000000796),\n",
       " Row(placa='URU6M78', rodovia='BR-116', tempo_da_simulacao=170.0, pos_x=475.0, pos_y=106.5),\n",
       " Row(placa='PAR5Z67', rodovia='BR-116', tempo_da_simulacao=170.0, pos_x=835.0, pos_y=622.5)]"
      ]
     },
     "execution_count": 8,
     "metadata": {},
     "output_type": "execute_result"
    }
   ],
   "source": [
    "r"
   ]
  },
  {
   "cell_type": "code",
   "execution_count": 9,
   "id": "c3fdcb69-e1a0-4b9b-a471-ab26947be0e4",
   "metadata": {},
   "outputs": [
    {
     "name": "stdout",
     "output_type": "stream",
     "text": [
      "+-------+-------+------------------+-----+-------------------+\n",
      "|  placa|rodovia|tempo_da_simulacao|pos_x|              pos_y|\n",
      "+-------+-------+------------------+-----+-------------------+\n",
      "|BRA2A34| BR-116|             170.0|745.0|             842.75|\n",
      "|URU2Y34| BR-116|             170.0|655.0|-31.500000000000796|\n",
      "|URU6M78| BR-116|             170.0|475.0|              106.5|\n",
      "|PAR5Z67| BR-116|             170.0|835.0|              622.5|\n",
      "+-------+-------+------------------+-----+-------------------+\n",
      "\n"
     ]
    }
   ],
   "source": [
    "df = ss.createDataFrame(r)\n",
    "\n",
    "df.show()"
   ]
  },
  {
   "cell_type": "code",
   "execution_count": 10,
   "id": "5598ccb7-819d-48c2-b658-c73efc8f8713",
   "metadata": {},
   "outputs": [
    {
     "name": "stdout",
     "output_type": "stream",
     "text": [
      "+-------+-------+------------------+-----+------------------+\n",
      "|  placa|rodovia|tempo_da_simulacao|pos_x|             pos_y|\n",
      "+-------+-------+------------------+-----+------------------+\n",
      "|ARG9X01| BR-116|             171.0|475.0|            159.55|\n",
      "|BRA8M90| BR-116|             171.0|565.0|             145.8|\n",
      "|COL1R23| BR-116|             171.0|475.0|157.35000000000002|\n",
      "|BRA0K12| BR-116|             171.0|385.0|            260.05|\n",
      "|SUR8W90| BR-116|             171.0|475.0| 367.8500000000001|\n",
      "|GUY7J89| BR-116|             171.0|745.0|            737.75|\n",
      "|ECU2U34| BR-116|             171.0|655.0|             749.8|\n",
      "|BRA4Y56| BR-116|             171.0|385.0|  908.250000000001|\n",
      "|SUR2K34| BR-116|             171.0|745.0|             822.0|\n",
      "|CHI8Q90| BR-116|             171.0|385.0| 289.5000000000001|\n",
      "|PAR5Z67| BR-116|             171.0|835.0|             614.5|\n",
      "+-------+-------+------------------+-----+------------------+\n",
      "\n"
     ]
    }
   ],
   "source": [
    "number+=1\n",
    "result = session.execute(\"SELECT * FROM simulacao WHERE tempo_da_simulacao = \"+str(number)+\" ALLOW FILTERING;\")\n",
    "r = list(result)\n",
    "df2 = ss.createDataFrame(r)\n",
    "df2.show()"
   ]
  },
  {
   "cell_type": "code",
   "execution_count": 11,
   "id": "3abcc112-8579-44f7-97c4-7ae5ea61b0e6",
   "metadata": {},
   "outputs": [
    {
     "name": "stdout",
     "output_type": "stream",
     "text": [
      "+-------+-------+------------------+-----+------------------+\n",
      "|  placa|rodovia|tempo_da_simulacao|pos_x|             pos_y|\n",
      "+-------+-------+------------------+-----+------------------+\n",
      "|ARG9X01| BR-116|             172.0|475.0|            159.55|\n",
      "|BOL5P67| BR-116|             172.0|835.0|            795.25|\n",
      "|COL1R23| BR-116|             172.0|745.0|             748.0|\n",
      "|CHI0G12| BR-116|             172.0|385.0| 281.5500000000002|\n",
      "|BRA2A34| BR-116|             172.0|745.0|             866.0|\n",
      "|URU2Y34| BR-116|             172.0|655.0| 384.4999999999992|\n",
      "|BRA0K12| BR-116|             172.0|475.0|            223.35|\n",
      "|SUR8W90| BR-116|             172.0|475.0| 587.8500000000003|\n",
      "|ECU8G90| BR-116|             172.0|475.0|            146.25|\n",
      "|URU6M78| BR-116|             172.0|475.0|             168.5|\n",
      "|BOL3R45| BR-116|             172.0|745.0|             780.0|\n",
      "|GUY3V45| BR-116|             172.0|475.0|233.45000000000007|\n",
      "|GUY7J89| BR-116|             172.0|655.0|            710.15|\n",
      "|ARG3L45| BR-116|             172.0|745.0|            820.65|\n",
      "|VEN4E56| BR-116|             172.0|745.0|             790.3|\n",
      "|ECU2U34| BR-116|             172.0|655.0|             749.8|\n",
      "|URU8C90| BR-116|             172.0|475.0|170.60000000000002|\n",
      "|BRA4Y56| BR-116|             172.0|655.0|             827.0|\n",
      "|COL3H45| BR-116|             172.0|745.0|            748.75|\n",
      "|URU4O56| BR-116|             172.0|835.0|             824.0|\n",
      "+-------+-------+------------------+-----+------------------+\n",
      "only showing top 20 rows\n",
      "\n"
     ]
    }
   ],
   "source": [
    "number+=1\n",
    "result = session.execute(\"SELECT * FROM simulacao WHERE tempo_da_simulacao = \"+str(number)+\" ALLOW FILTERING;\")\n",
    "r = list(result)\n",
    "df25 = ss.createDataFrame(r)\n",
    "df25.show()"
   ]
  },
  {
   "cell_type": "code",
   "execution_count": 12,
   "id": "adb8bf4a-8358-4fec-acdd-8a8922b052aa",
   "metadata": {},
   "outputs": [],
   "source": [
    "df_empty = ss.createDataFrame([], \"placa: string, posicao: int, linha: int, rodovia: string, tempo_da_simulacao: int, velocidade: double, aceleracao: double, posicao_prevista: double, acima_vel: boolean, aplicaMulta: boolean\")"
   ]
  },
  {
   "cell_type": "code",
   "execution_count": 13,
   "id": "6502d2f2-4070-4fa7-ba5a-67d28e17f656",
   "metadata": {},
   "outputs": [],
   "source": [
    "import json\n",
    "params = json.load(open('./mock/parametros.json'))"
   ]
  },
  {
   "cell_type": "code",
   "execution_count": 14,
   "id": "2455de12-32b8-47f1-b1c2-3fd40ceaa406",
   "metadata": {},
   "outputs": [],
   "source": [
    "p = [[key]+list(params[key].values()) for key in params.keys()]"
   ]
  },
  {
   "cell_type": "code",
   "execution_count": 15,
   "id": "6f67878d-5e54-4270-9a17-f43f9a25464c",
   "metadata": {},
   "outputs": [
    {
     "data": {
      "text/html": [
       "<div>\n",
       "<style scoped>\n",
       "    .dataframe tbody tr th:only-of-type {\n",
       "        vertical-align: middle;\n",
       "    }\n",
       "\n",
       "    .dataframe tbody tr th {\n",
       "        vertical-align: top;\n",
       "    }\n",
       "\n",
       "    .dataframe thead th {\n",
       "        text-align: right;\n",
       "    }\n",
       "</style>\n",
       "<table border=\"1\" class=\"dataframe\">\n",
       "  <thead>\n",
       "    <tr style=\"text-align: right;\">\n",
       "      <th></th>\n",
       "      <th>Rodovia</th>\n",
       "      <th>sentido1Name</th>\n",
       "      <th>sentido2Name</th>\n",
       "      <th>sentido1Faixas</th>\n",
       "      <th>sentido2Faixas</th>\n",
       "      <th>probabilidadeDeEntradaDeVeiculo</th>\n",
       "      <th>velocidadeMaxima</th>\n",
       "      <th>velocidadeMinima</th>\n",
       "      <th>AceleracaoMaxima</th>\n",
       "      <th>AceleracaoMinima</th>\n",
       "      <th>probabilidadeDeTrocaDeFaixa</th>\n",
       "      <th>probabilidadeColisao</th>\n",
       "      <th>tempoColisao</th>\n",
       "      <th>kilometroInicial</th>\n",
       "      <th>interfaceGrafica</th>\n",
       "      <th>tamanhoCarro</th>\n",
       "    </tr>\n",
       "  </thead>\n",
       "  <tbody>\n",
       "    <tr>\n",
       "      <th>0</th>\n",
       "      <td>BR-040</td>\n",
       "      <td>Brasilia</td>\n",
       "      <td>Rio de Janeiro</td>\n",
       "      <td>3</td>\n",
       "      <td>3</td>\n",
       "      <td>0.9</td>\n",
       "      <td>10</td>\n",
       "      <td>2</td>\n",
       "      <td>0.10</td>\n",
       "      <td>0.01</td>\n",
       "      <td>0.3</td>\n",
       "      <td>0.1</td>\n",
       "      <td>3000</td>\n",
       "      <td>100</td>\n",
       "      <td>True</td>\n",
       "      <td>74</td>\n",
       "    </tr>\n",
       "    <tr>\n",
       "      <th>1</th>\n",
       "      <td>BR-116</td>\n",
       "      <td>Fortaleza</td>\n",
       "      <td>Rio Grande do Sul</td>\n",
       "      <td>3</td>\n",
       "      <td>3</td>\n",
       "      <td>0.8</td>\n",
       "      <td>9</td>\n",
       "      <td>2</td>\n",
       "      <td>0.15</td>\n",
       "      <td>0.05</td>\n",
       "      <td>0.5</td>\n",
       "      <td>0.1</td>\n",
       "      <td>3000</td>\n",
       "      <td>100</td>\n",
       "      <td>False</td>\n",
       "      <td>74</td>\n",
       "    </tr>\n",
       "    <tr>\n",
       "      <th>2</th>\n",
       "      <td>BR-135</td>\n",
       "      <td>Belo Horizonte</td>\n",
       "      <td>São Luís</td>\n",
       "      <td>3</td>\n",
       "      <td>3</td>\n",
       "      <td>0.9</td>\n",
       "      <td>12</td>\n",
       "      <td>3</td>\n",
       "      <td>0.20</td>\n",
       "      <td>0.05</td>\n",
       "      <td>0.3</td>\n",
       "      <td>0.1</td>\n",
       "      <td>3000</td>\n",
       "      <td>100</td>\n",
       "      <td>False</td>\n",
       "      <td>74</td>\n",
       "    </tr>\n",
       "    <tr>\n",
       "      <th>3</th>\n",
       "      <td>BR-393</td>\n",
       "      <td>Cachoeiro de Itapemirim</td>\n",
       "      <td>Barra Mansa</td>\n",
       "      <td>2</td>\n",
       "      <td>2</td>\n",
       "      <td>0.9</td>\n",
       "      <td>8</td>\n",
       "      <td>2</td>\n",
       "      <td>0.10</td>\n",
       "      <td>0.01</td>\n",
       "      <td>0.5</td>\n",
       "      <td>0.1</td>\n",
       "      <td>3000</td>\n",
       "      <td>100</td>\n",
       "      <td>False</td>\n",
       "      <td>74</td>\n",
       "    </tr>\n",
       "  </tbody>\n",
       "</table>\n",
       "</div>"
      ],
      "text/plain": [
       "  Rodovia             sentido1Name       sentido2Name  sentido1Faixas  \\\n",
       "0  BR-040                 Brasilia     Rio de Janeiro               3   \n",
       "1  BR-116                Fortaleza  Rio Grande do Sul               3   \n",
       "2  BR-135           Belo Horizonte           São Luís               3   \n",
       "3  BR-393  Cachoeiro de Itapemirim        Barra Mansa               2   \n",
       "\n",
       "   sentido2Faixas  probabilidadeDeEntradaDeVeiculo  velocidadeMaxima  \\\n",
       "0               3                              0.9                10   \n",
       "1               3                              0.8                 9   \n",
       "2               3                              0.9                12   \n",
       "3               2                              0.9                 8   \n",
       "\n",
       "   velocidadeMinima  AceleracaoMaxima  AceleracaoMinima  \\\n",
       "0                 2              0.10              0.01   \n",
       "1                 2              0.15              0.05   \n",
       "2                 3              0.20              0.05   \n",
       "3                 2              0.10              0.01   \n",
       "\n",
       "   probabilidadeDeTrocaDeFaixa  probabilidadeColisao  tempoColisao  \\\n",
       "0                          0.3                   0.1          3000   \n",
       "1                          0.5                   0.1          3000   \n",
       "2                          0.3                   0.1          3000   \n",
       "3                          0.5                   0.1          3000   \n",
       "\n",
       "   kilometroInicial  interfaceGrafica  tamanhoCarro  \n",
       "0               100              True            74  \n",
       "1               100             False            74  \n",
       "2               100             False            74  \n",
       "3               100             False            74  "
      ]
     },
     "execution_count": 15,
     "metadata": {},
     "output_type": "execute_result"
    }
   ],
   "source": [
    "p = ss.createDataFrame(p, [\"Rodovia\"]+list(params[list(params.keys())[0]].keys()))\n",
    "\n",
    "p.toPandas()"
   ]
  },
  {
   "cell_type": "code",
   "execution_count": 16,
   "id": "5faa2913-2467-4829-ae7e-55d551f38ade",
   "metadata": {},
   "outputs": [],
   "source": [
    "import queue\n"
   ]
  },
  {
   "cell_type": "code",
   "execution_count": 17,
   "id": "9e4cadb1-49c0-415f-b98d-048645ca1a90",
   "metadata": {},
   "outputs": [],
   "source": [
    "fps = 30\n",
    "\n",
    "def processa_carro(DadosNovos, DadosCarros, colision_tolerance, colision_tolerance_quad, Parametros):\n",
    "    DadosCarros = DadosCarros.drop('aplicaMulta')\n",
    "\n",
    "    # Renomeia coluna do dado novo\n",
    "    DadosNovos = DadosNovos.select(F.col('pos_y').alias('posicao_nova'), F.col('rodovia').alias('rodovia_nova'),\n",
    "                                   F.col('pos_x').alias('linha_nova'),\n",
    "                      F.col('tempo_da_simulacao').alias('tempo_da_simulacao_novo'),F.col('placa'))\n",
    "    data_joined = DadosCarros.join(DadosNovos, on=\"placa\", how='right')\n",
    "    data_joined = data_joined.withColumn(\"rodovia\", coalesce(col(\"rodovia_nova\"), col(\"rodovia\")))\n",
    "    data_joined = data_joined.withColumn(\"linha\", coalesce(col(\"linha_nova\"), col(\"linha\")))\n",
    "    data_joined = data_joined.drop(\"rodovia_nova\", \"linha_nova\")\n",
    "    \n",
    "    data_joined = data_joined.withColumn(\"diferenca_de_posicao\", col(\"posicao_nova\") - col(\"posicao\"))\n",
    "    \n",
    "    data_joined = data_joined.withColumn(\"diferenca_de_horario\", (col(\"tempo_da_simulacao_novo\") - col(\"tempo_da_simulacao\"))*fps)\n",
    "\n",
    "    data_joined = data_joined.withColumnRenamed(\"velocidade\", \"velocidade_antiga\")\n",
    "\n",
    "    data_joined = data_joined.withColumn(\"velocidade\", col(\"diferenca_de_posicao\") / col(\"diferenca_de_horario\"))\n",
    "\n",
    "    data_joined = data_joined.withColumn(\"diferenca_de_velocidade\", col(\"velocidade\") - col(\"velocidade_antiga\"))\n",
    "\n",
    "    data_joined = data_joined.withColumn(\"aceleracao\", col(\"diferenca_de_velocidade\") / col(\"diferenca_de_horario\"))\n",
    "\n",
    "    data_joined = data_joined.drop(\"velocidade_antiga\", \"posicao\", \"tempo_da_simulacao\",\n",
    "                     \"diferenca_de_posicao\", \"diferenca_de_horario\",\n",
    "                     \"diferenca_de_velocidade\")\n",
    "\n",
    "    data_joined = data_joined.withColumnRenamed(\"posicao_nova\", \"posicao\")\n",
    "\n",
    "    data_joined = data_joined.withColumnRenamed(\"tempo_da_simulacao_novo\", \"tempo_da_simulacao\")\n",
    "\n",
    "    data_joined = data_joined.withColumn(\"posicao_prevista\", col(\"posicao\")\\\n",
    "                           + col(\"velocidade\")*colision_tolerance\\\n",
    "                           + col(\"aceleracao\")*colision_tolerance_quad)\n",
    "\n",
    "    Velocidades_Maximas = Parametros.select(F.col('rodovia'), F.col(\"VelocidadeMaxima\"))\n",
    "    data_joined = data_joined.join(Velocidades_Maximas, on=\"rodovia\", how=\"left\")\n",
    "\n",
    "    acima_vel_df = data_joined.select(F.col('placa'), F.col('acima_vel').alias('acima_vel_antigo'))\n",
    "    data_joined = data_joined.withColumn(\"acima_vel\", F.when(F.abs(data_joined[\"velocidade\"]) > F.abs(fps/data_joined[\"VelocidadeMaxima\"]), 1).otherwise(0))\n",
    "\n",
    "    acima_vel_df = acima_vel_df.join(data_joined.select(F.col('placa'), F.col('acima_vel').alias('acima_vel_novo')), on='placa', how=\"left\")\n",
    "    acima_vel_df = acima_vel_df.withColumn(\"aplicaMulta\", (F.col('acima_vel_antigo')==0) &  (F.col('acima_vel_novo')==1) )\n",
    "\n",
    "    data_joined = data_joined.join(acima_vel_df.select(F.col('placa'), F.col('aplicaMulta')), on='placa', how='left')\n",
    "\n",
    "    data_joined = data_joined.drop(\"VelocidadeMaxima\")\n",
    "    return data_joined\n",
    "    "
   ]
  },
  {
   "cell_type": "code",
   "execution_count": 18,
   "id": "6d5d8999-3b56-4278-b474-3fd0f209050c",
   "metadata": {},
   "outputs": [
    {
     "name": "stdout",
     "output_type": "stream",
     "text": [
      "+-----+-------+-----+-------+------------------+----------+----------+----------------+---------+-----------+\n",
      "|placa|posicao|linha|rodovia|tempo_da_simulacao|velocidade|aceleracao|posicao_prevista|acima_vel|aplicaMulta|\n",
      "+-----+-------+-----+-------+------------------+----------+----------+----------------+---------+-----------+\n",
      "+-----+-------+-----+-------+------------------+----------+----------+----------------+---------+-----------+\n",
      "\n"
     ]
    }
   ],
   "source": [
    "df_empty.show()"
   ]
  },
  {
   "cell_type": "code",
   "execution_count": 19,
   "id": "10c36cec-dce4-4800-a073-59778241b2cf",
   "metadata": {},
   "outputs": [],
   "source": [
    "df3 = processa_carro(df, df_empty, 1, 0.5, p)"
   ]
  },
  {
   "cell_type": "code",
   "execution_count": 20,
   "id": "494187c2-026f-4266-bc67-f6174c77fdc9",
   "metadata": {},
   "outputs": [],
   "source": [
    "df3 = processa_carro(df2, df3, 1, 0.5, p)"
   ]
  },
  {
   "cell_type": "code",
   "execution_count": 21,
   "id": "41ec68e6-fb26-4551-bcc5-fa3062fc4be4",
   "metadata": {},
   "outputs": [],
   "source": [
    "df4 = processa_carro(df25, df3, 1, 0.5, p)"
   ]
  },
  {
   "cell_type": "code",
   "execution_count": 22,
   "id": "7257280c-9082-47ef-8022-2aec353daf46",
   "metadata": {},
   "outputs": [
    {
     "data": {
      "text/plain": [
       "DataFrame[placa: string, rodovia: string, linha: double, aceleracao: double, posicao_prevista: double, acima_vel: int, posicao: double, tempo_da_simulacao: double, velocidade: double, aplicaMulta: boolean]"
      ]
     },
     "execution_count": 22,
     "metadata": {},
     "output_type": "execute_result"
    }
   ],
   "source": [
    "df4"
   ]
  },
  {
   "cell_type": "code",
   "execution_count": 29,
   "id": "a2b38932-ee06-4644-9618-e2485c42198e",
   "metadata": {},
   "outputs": [
    {
     "data": {
      "text/plain": [
       "DataFrame[placa: string, tempo_da_simulacao: int, multa_numero: int]"
      ]
     },
     "execution_count": 29,
     "metadata": {},
     "output_type": "execute_result"
    }
   ],
   "source": [
    "df_multas = ss.createDataFrame([], \"placa: string, tempo_da_simulacao: int, multa_numero : int\")\n",
    "\n",
    "df_multas"
   ]
  },
  {
   "cell_type": "code",
   "execution_count": 30,
   "id": "58702ab1-59b5-420c-ac04-aea52cc7b466",
   "metadata": {},
   "outputs": [
    {
     "name": "stdout",
     "output_type": "stream",
     "text": [
      "+-----+------------------+------------+\n",
      "|placa|tempo_da_simulacao|multa_numero|\n",
      "+-----+------------------+------------+\n",
      "+-----+------------------+------------+\n",
      "\n"
     ]
    }
   ],
   "source": [
    "df_multas.show()"
   ]
  },
  {
   "cell_type": "code",
   "execution_count": 31,
   "id": "7a5004b4-081e-4ddf-bf54-4f7091abddb7",
   "metadata": {},
   "outputs": [],
   "source": [
    "from pyspark.sql.window import Window\n",
    "def aplica_multa(df):\n",
    "    global df_multas\n",
    "    df = df.filter(F.col('aplicaMulta') == True)\n",
    "    df = df.select(F.col('placa'),F.col('tempo_da_simulacao'))\n",
    "    # Group by 'placa' and get the last value of each column\n",
    "    df2 = df_multas.groupBy('placa').agg(F.count('placa').alias('multa_numero'))\n",
    "    df2 = df2.withColumn('multa_numero',F.col('multa_numero')+1)    \n",
    "    df2 = df2.join(df,['placa'],how='right')\n",
    "    df2 = df2.withColumn('multa_numero', F.when(F.isnull('multa_numero'), 1).otherwise('multa_numero'))\n",
    "    df_multas = df2.union(df_multas)\n",
    "    df_multas.show()"
   ]
  },
  {
   "cell_type": "code",
   "execution_count": null,
   "id": "e6fa2456-a041-443a-b109-9f1218b12a67",
   "metadata": {},
   "outputs": [],
   "source": [
    "aplica_multa(df4)\n"
   ]
  },
  {
   "cell_type": "code",
   "execution_count": null,
   "id": "a9b2557c-e1bc-4466-89bf-014fc9168199",
   "metadata": {},
   "outputs": [],
   "source": []
  }
 ],
 "metadata": {
  "kernelspec": {
   "display_name": "Python 3 (ipykernel)",
   "language": "python",
   "name": "python3"
  },
  "language_info": {
   "codemirror_mode": {
    "name": "ipython",
    "version": 3
   },
   "file_extension": ".py",
   "mimetype": "text/x-python",
   "name": "python",
   "nbconvert_exporter": "python",
   "pygments_lexer": "ipython3",
   "version": "3.11.3"
  }
 },
 "nbformat": 4,
 "nbformat_minor": 5
}

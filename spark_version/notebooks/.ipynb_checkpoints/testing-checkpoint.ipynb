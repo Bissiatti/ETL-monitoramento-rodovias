{
 "cells": [
  {
   "cell_type": "code",
   "execution_count": 1,
   "id": "92314900-b3b6-4ed7-86a9-a26474046fb8",
   "metadata": {},
   "outputs": [
    {
     "name": "stderr",
     "output_type": "stream",
     "text": [
      "/usr/local/spark/python/pyspark/sql/context.py:112: FutureWarning: Deprecated in 3.0.0. Use SparkSession.builder.getOrCreate() instead.\n",
      "  warnings.warn(\n"
     ]
    }
   ],
   "source": [
    "import pandas as pd\n",
    "import numpy as np\n",
    "import matplotlib.pyplot as plt\n",
    "import seaborn as sns\n",
    "from pyspark.sql.types import * \n",
    "from pyspark.sql import SparkSession, DataFrame as SparkDataFrame\n",
    "import pyspark.sql.functions as F\n",
    "from pyspark.sql.functions import col,isnan, when, count\n",
    "from pyspark import SparkContext\n",
    "from pyspark.sql import SQLContext\n",
    "import json\n",
    "from functools import reduce\n",
    "import sys\n",
    "from cassandra.cluster import Cluster\n",
    "import os\n",
    "# from mock.tasks import adiciona_carro\n",
    "cluster = Cluster(['cassandra'])\n",
    "session = cluster.connect()\n",
    "\n",
    "ss = SparkSession.builder.appName(\"test\").getOrCreate()\n",
    "sql = SQLContext(ss)"
   ]
  },
  {
   "cell_type": "code",
   "execution_count": 3,
   "id": "4ace41b7-0602-4d30-8fc2-4a41b884dea5",
   "metadata": {},
   "outputs": [
    {
     "data": {
      "text/plain": [
       "<cassandra.cluster.ResultSet at 0x7f81daa50990>"
      ]
     },
     "execution_count": 3,
     "metadata": {},
     "output_type": "execute_result"
    }
   ],
   "source": [
    "session.execute(\"USE simulacao\")"
   ]
  },
  {
   "cell_type": "code",
   "execution_count": 4,
   "id": "99159133-eb27-440d-9e2f-24f9f9e3ae0e",
   "metadata": {},
   "outputs": [
    {
     "name": "stderr",
     "output_type": "stream",
     "text": [
      "/tmp/ipykernel_16086/795349805.py:1: DeprecationWarning: ResultSet indexing support will be removed in 4.0. Consider using ResultSet.one() to get a single row.\n",
      "  session.execute(\"select count(*) from simulacao\")[0]\n"
     ]
    },
    {
     "data": {
      "text/plain": [
       "Row(count=3712)"
      ]
     },
     "execution_count": 4,
     "metadata": {},
     "output_type": "execute_result"
    }
   ],
   "source": [
    "session.execute(\"select count(*) from simulacao\")[0]"
   ]
  },
  {
   "cell_type": "code",
   "execution_count": 42,
   "id": "160193c9-855e-4797-baf4-e9967e76c8a9",
   "metadata": {},
   "outputs": [],
   "source": [
    "result = session.execute(\"SELECT * FROM simulacao WHERE tempo_da_simulacao = 142 ALLOW FILTERING;\")"
   ]
  },
  {
   "cell_type": "code",
   "execution_count": 43,
   "id": "849c8f85-bcf0-4f98-bc45-1bcda2f196d7",
   "metadata": {},
   "outputs": [
    {
     "name": "stderr",
     "output_type": "stream",
     "text": [
      "/tmp/ipykernel_16086/223460175.py:1: DeprecationWarning: ResultSet indexing support will be removed in 4.0. Consider using ResultSet.one() to get a single row.\n",
      "  result[0]\n"
     ]
    },
    {
     "data": {
      "text/plain": [
       "Row(rodovia='BR-116', tempo_da_simulacao=142, placa='ARG5B67', pos_x=655.0, pos_y=168.99999999999872)"
      ]
     },
     "execution_count": 43,
     "metadata": {},
     "output_type": "execute_result"
    }
   ],
   "source": [
    "result[0]"
   ]
  },
  {
   "cell_type": "code",
   "execution_count": 44,
   "id": "526f2e12-46d5-4b63-84af-fd66bba99e78",
   "metadata": {},
   "outputs": [],
   "source": [
    "r = list(result)"
   ]
  },
  {
   "cell_type": "code",
   "execution_count": 45,
   "id": "fac82b92-0f58-4fc1-ab9c-61a7b43475f5",
   "metadata": {},
   "outputs": [
    {
     "data": {
      "text/plain": [
       "[Row(rodovia='BR-116', tempo_da_simulacao=142, placa='ARG5B67', pos_x=655.0, pos_y=168.99999999999872),\n",
       " Row(rodovia='BR-116', tempo_da_simulacao=142, placa='CHI6S78', pos_x=745.0, pos_y=820.0),\n",
       " Row(rodovia='BR-116', tempo_da_simulacao=142, placa='ECU6I78', pos_x=565.0, pos_y=90.75),\n",
       " Row(rodovia='BR-116', tempo_da_simulacao=142, placa='GUY1X23', pos_x=385.0, pos_y=310.25000000000017),\n",
       " Row(rodovia='BR-116', tempo_da_simulacao=142, placa='PAR7P89', pos_x=475.0, pos_y=152.25000000000003),\n",
       " Row(rodovia='BR-116', tempo_da_simulacao=142, placa='SUR8W90', pos_x=745.0, pos_y=749.15),\n",
       " Row(rodovia='BR-116', tempo_da_simulacao=142, placa='URU0A12', pos_x=835.0, pos_y=650.5),\n",
       " Row(rodovia='BR-116', tempo_da_simulacao=142, placa='URU4O56', pos_x=565.0, pos_y=869.2500000000007)]"
      ]
     },
     "execution_count": 45,
     "metadata": {},
     "output_type": "execute_result"
    }
   ],
   "source": [
    "r"
   ]
  },
  {
   "cell_type": "code",
   "execution_count": 46,
   "id": "c3fdcb69-e1a0-4b9b-a471-ab26947be0e4",
   "metadata": {},
   "outputs": [
    {
     "name": "stdout",
     "output_type": "stream",
     "text": [
      "+-------+------------------+-------+-----+------------------+\n",
      "|rodovia|tempo_da_simulacao|  placa|pos_x|             pos_y|\n",
      "+-------+------------------+-------+-----+------------------+\n",
      "| BR-116|               142|ARG5B67|655.0|168.99999999999872|\n",
      "| BR-116|               142|CHI6S78|745.0|             820.0|\n",
      "| BR-116|               142|ECU6I78|565.0|             90.75|\n",
      "| BR-116|               142|GUY1X23|385.0|310.25000000000017|\n",
      "| BR-116|               142|PAR7P89|475.0|152.25000000000003|\n",
      "| BR-116|               142|SUR8W90|745.0|            749.15|\n",
      "| BR-116|               142|URU0A12|835.0|             650.5|\n",
      "| BR-116|               142|URU4O56|565.0| 869.2500000000007|\n",
      "+-------+------------------+-------+-----+------------------+\n",
      "\n"
     ]
    }
   ],
   "source": [
    "df = ss.createDataFrame(r)\n",
    "\n",
    "df.show()"
   ]
  },
  {
   "cell_type": "code",
   "execution_count": 47,
   "id": "5598ccb7-819d-48c2-b658-c73efc8f8713",
   "metadata": {},
   "outputs": [
    {
     "name": "stdout",
     "output_type": "stream",
     "text": [
      "+-------+------------------+-------+-----+------------------+\n",
      "|rodovia|tempo_da_simulacao|  placa|pos_x|             pos_y|\n",
      "+-------+------------------+-------+-----+------------------+\n",
      "| BR-116|               143|ARG5B67|655.0|162.99999999999872|\n",
      "| BR-116|               143|CHI6S78|745.0|             776.0|\n",
      "| BR-116|               143|ECU6I78|565.0|325.35000000000014|\n",
      "| BR-116|               143|GUY1X23|385.0| 435.1000000000003|\n",
      "| BR-116|               143|PAR7P89|475.0| 268.8000000000002|\n",
      "| BR-116|               143|SUR8W90|745.0|            749.15|\n",
      "| BR-116|               143|URU0A12|835.0|             614.5|\n",
      "| BR-116|               143|URU4O56|565.0| 904.5000000000007|\n",
      "| BR-116|               143|URU6M78|655.0|            826.75|\n",
      "+-------+------------------+-------+-----+------------------+\n",
      "\n"
     ]
    }
   ],
   "source": [
    "result = session.execute(\"SELECT * FROM simulacao WHERE tempo_da_simulacao = 143 ALLOW FILTERING;\")\n",
    "r = list(result)\n",
    "df2 = ss.createDataFrame(r)\n",
    "df2.show()"
   ]
  },
  {
   "cell_type": "code",
   "execution_count": 4,
   "id": "9e4cadb1-49c0-415f-b98d-048645ca1a90",
   "metadata": {},
   "outputs": [
    {
     "data": {
      "text/plain": [
       "<pyspark.sql.context.SQLContext at 0x7fd19ab77350>"
      ]
     },
     "execution_count": 4,
     "metadata": {},
     "output_type": "execute_result"
    }
   ],
   "source": [
    "def differenciate(val1, val2, t1, t2):\n",
    "    return (val2 - val1)/(t2 - t1)\n",
    "\n",
    "def processa_carro(DadosNovos, DadosCarros, colision_tolerance, colision_tolerance_quad):\n",
    "    dadosNovos.select(F.col('posicao').alias('posicao_nova'),\n",
    "                      F.col('horario_de_registro').alias('horario_de_registro_novo'))\n",
    "    data_joined = DadosCarros.join(dadosNovos, on=\"placa\", how='right')\n",
    "    data_joined.withColumn(\"diferenca_de_posicao\", col(\"posicao_nova\") - col(\"posicao\"))\n",
    "    data_joined.withColumn(\"diferenca_de_horario\", col(\"horario_de_registro_novo\") - col(\"horario_de_registro\"))\n",
    "    data_joined.withColumnRenamed(\"velocidade\", \"velocidade_antiga\")\n",
    "    data_joined.withColumn(\"velocidade\", col(\"diferenca_de_posicao\") / col(\"diferenca_de_horario\"))\n",
    "    data_joined.withColumn(\"diferenca_de_velocidade\", col(\"velocidade\") - col(\"velocidade_antiga\"))\n",
    "    data_joined.withColumn(\"aceleracao\", col(\"diferenca_de_velocidade\") / col(\"diferenca_de_horario\"))\n",
    "    data_joined.withColumn(\"aceleracao\", col(\"diferenca_de_velocidade\") / col(\"diferenca_de_horario\"))\n",
    "    data_joined.drop(\"velocidade_antiga\", \"posicao\", \"horario_de_registro\",\n",
    "                     \"diferenca_de_posicao\", \"diferenca_de_horario\",\n",
    "                     \"diferenca_de_velocidade\")\n",
    "    data_joined.withColumnRenamed(\"posicao_nova\", \"posicao\")\n",
    "    data_joined.withColumnRenamed(\"horario_de_registro_novo\", \"horario_de_registro\")\n",
    "    data_joined.withColumn(\"posicao_prevista\", col(\"posicao\")\\\n",
    "                           + col(\"velocidade\")*colision_tolerance\\\n",
    "                           + col(\"aceleracao\")*colision_tolerance_quad)\n",
    "    return data_joined\n",
    "    "
   ]
  },
  {
   "cell_type": "code",
   "execution_count": 5,
   "id": "10c36cec-dce4-4800-a073-59778241b2cf",
   "metadata": {},
   "outputs": [
    {
     "data": {
      "text/plain": [
       "'O'"
      ]
     },
     "execution_count": 5,
     "metadata": {},
     "output_type": "execute_result"
    }
   ],
   "source": [
    "\"Olá\" = "
   ]
  },
  {
   "cell_type": "code",
   "execution_count": null,
   "id": "494187c2-026f-4266-bc67-f6174c77fdc9",
   "metadata": {},
   "outputs": [
    {
     "name": "stdout",
     "output_type": "stream",
     "text": [
      "Connected to \u001b[0;1;34mTest Cluster\u001b[0m at cassandra:9042\n",
      "[cqlsh 6.1.0 | Cassandra 4.1.2 | CQL spec 3.4.6 | Native protocol v5]\n",
      "Use HELP for help.\n",
      "cqlsh> "
     ]
    }
   ],
   "source": []
  },
  {
   "cell_type": "code",
   "execution_count": null,
   "id": "41ec68e6-fb26-4551-bcc5-fa3062fc4be4",
   "metadata": {},
   "outputs": [],
   "source": []
  }
 ],
 "metadata": {
  "kernelspec": {
   "display_name": "Python 3 (ipykernel)",
   "language": "python",
   "name": "python3"
  },
  "language_info": {
   "codemirror_mode": {
    "name": "ipython",
    "version": 3
   },
   "file_extension": ".py",
   "mimetype": "text/x-python",
   "name": "python",
   "nbconvert_exporter": "python",
   "pygments_lexer": "ipython3",
   "version": "3.11.3"
  }
 },
 "nbformat": 4,
 "nbformat_minor": 5
}

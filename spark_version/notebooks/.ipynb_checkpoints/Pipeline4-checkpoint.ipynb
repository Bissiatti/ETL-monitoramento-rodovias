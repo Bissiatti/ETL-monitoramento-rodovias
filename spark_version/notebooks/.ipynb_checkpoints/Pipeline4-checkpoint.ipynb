{
 "cells": [
  {
   "cell_type": "code",
   "execution_count": 1,
   "id": "87629450-b9d4-46bd-827f-78c022052911",
   "metadata": {},
   "outputs": [
    {
     "name": "stderr",
     "output_type": "stream",
     "text": [
      "/usr/local/spark/python/pyspark/sql/context.py:112: FutureWarning: Deprecated in 3.0.0. Use SparkSession.builder.getOrCreate() instead.\n",
      "  warnings.warn(\n"
     ]
    }
   ],
   "source": [
    "import pandas as pd\n",
    "import numpy as np\n",
    "import matplotlib.pyplot as plt\n",
    "import seaborn as sns\n",
    "from pyspark.sql.types import * \n",
    "from pyspark.sql import SparkSession, DataFrame as SparkDataFrame\n",
    "import pyspark.sql.functions as F\n",
    "from pyspark.sql.functions import col,isnan, when, count, coalesce\n",
    "from pyspark import SparkContext\n",
    "from pyspark.sql import SQLContext\n",
    "from pyspark.sql.window import Window\n",
    "from pyspark.sql.functions import col, lag, lead, row_number, min,max, first\n",
    "import json\n",
    "from functools import reduce\n",
    "import sys\n",
    "from cassandra.cluster import Cluster\n",
    "import os\n",
    "import time\n",
    "\n",
    "# from mock.tasks import adiciona_carro}\n",
    "cluster = Cluster(['cassandra'])\n",
    "session = cluster.connect()\n",
    "\n",
    "ss = SparkSession.builder.appName(\"test\").getOrCreate()\n",
    "sql = SQLContext(ss)\n",
    "\n",
    "import warnings\n",
    "warnings.simplefilter(action='ignore', category=FutureWarning)\n",
    "\n",
    "session.execute(\"USE simulacao\")\n",
    "\n",
    "import json\n",
    "params = json.load(open('./mock/parametros.json'))"
   ]
  },
  {
   "cell_type": "code",
   "execution_count": 17,
   "id": "501e1b73-7328-45a2-b40b-17a08a409d3c",
   "metadata": {},
   "outputs": [],
   "source": [
    "fps = 5\n",
    "p = [[key]+list(params[key].values()) for key in params.keys()]\n",
    "p = ss.createDataFrame(p, [\"Rodovia\"]+list(params[list(params.keys())[0]].keys()))\n",
    "df_old = ss.createDataFrame([], \"placa: string, posicao: int, faixa: int, rodovia: string, tempo_da_simulacao: int, velocidade: double, aceleracao: double, posicao_prevista: double, acima_vel: boolean, aplicaMulta: boolean, tempo_em_curso: int,tempo_inicio: int\")\n",
    "rodovias = p.select(F.collect_list('rodovia')).collect()[0][0]\n",
    "vel_media = {rodovia:0 for rodovia in rodovias} #\"BR-116\": 0, \"BR-040\": 0, \"BR-135\": 0, \"BR-393\": 0}\n",
    "n_vel_media = {rodovia:0 for rodovia in rodovias} # {\"BR-116\": 0, \"BR-040\": 0, \"BR-135\": 0, \"BR-393\": 0}\n",
    "\n",
    "tempo_medio = {rodovia:0 for rodovia in rodovias}\n",
    "n_tempo_medio = {rodovia:0 for rodovia in rodovias}\n",
    "\n",
    "def atualiza_media(media_atual, tamanho_atual, media_add, tamanho_add):\n",
    "    if media_add == None:\n",
    "        return media_atual\n",
    "    if tamanho_atual == 0:\n",
    "        return media_add\n",
    "    tamanho_total = tamanho_atual + tamanho_add\n",
    "    return (media_atual/tamanho_total)*tamanho_atual + (media_add/tamanho_total)*tamanho_add\n",
    "\n",
    "def processa_velocidade_media(batch):\n",
    "    global vel_media, n_vel_media\n",
    "    batch = batch.filter(F.col(\"vel_y\").isNotNull())\n",
    "    \n",
    "    # group by \"rodovia\" and aggregate the mean of \"velocidade\"\n",
    "    mean_df = batch.groupBy(\"rodovia\").agg(F.mean(F.abs(\"vel_y\").alias('vel_y')).alias('vel_y'))\n",
    "    # collect the rows as a list\n",
    "    mean_rows = mean_df.collect()\n",
    "    # create a dictionary with \"rodovia\" as key and mean as value\n",
    "    mean_dict = {row.asDict()[\"rodovia\"]: row.asDict()[\"vel_y\"] for row in mean_rows}\n",
    "    # group by \"rodovia\" and aggregate the mean of \"velocidade\"\n",
    "    length_df = batch.groupBy(\"rodovia\").agg(F.count(\"vel_y\"))\n",
    "    length_df = length_df.withColumnRenamed(\"count(vel_y)\", \"vel_y\")\n",
    "    # collect the rows as a list\n",
    "    length_rows = length_df.collect()\n",
    "    # create a dictionary with \"rodovia\" as key and mean as value\n",
    "    length_dict = {row.asDict()[\"rodovia\"]: row.asDict()[\"vel_y\"] for row in length_rows}\n",
    "    for key in length_dict.keys():\n",
    "        n_vel_media[key]+=length_dict[key]\n",
    "        vel_media[key] = atualiza_media(vel_media[key], n_vel_media[key], mean_dict[key], length_dict[key])\n",
    "\n",
    "def processa_tempo_cruzamento(batch):\n",
    "    global n_tempo_medio, tempo_medio\n",
    "    batch = batch.filter(F.col(\"tempo_cruzamento\").isNotNull())\n",
    "    # group by \"rodovia\" and aggregate the mean of \"velocidade\"\n",
    "    mean_df = batch.groupBy(\"rodovia\").agg(F.mean(\"tempo_cruzamento\"))\n",
    "    mean_df = mean_df.withColumnRenamed(\"avg(tempo_cruzamento)\", \"tempo_cruzamento\")\n",
    "    # collect the rows as a list\n",
    "    mean_rows = mean_df.collect()\n",
    "    # create a dictionary with \"rodovia\" as key and mean as value\n",
    "    mean_dict = {row.asDict()[\"rodovia\"]: row.asDict()[\"tempo_cruzamento\"] for row in mean_rows}\n",
    "\n",
    "    # group by \"rodovia\" and aggregate the mean of \"velocidade\"\n",
    "    length_df = batch.groupBy(\"rodovia\").agg(F.count(\"tempo_cruzamento\"))\n",
    "    length_df = length_df.withColumnRenamed(\"count(tempo_cruzamento)\", \"tempo_cruzamento\")\n",
    "    # collect the rows as a list\n",
    "    length_rows = length_df.collect()\n",
    "    # create a dictionary with \"rodovia\" as key and mean as value\n",
    "    length_dict = {row.asDict()[\"rodovia\"]: row.asDict()[\"tempo_cruzamento\"] for row in length_rows}\n",
    "    for key in length_dict.keys():\n",
    "        n_tempo_medio[key] += length_dict[key]\n",
    "        tempo_medio[key] = atualiza_media(tempo_medio[key], n_tempo_medio[key], mean_dict[key], length_dict[key])"
   ]
  },
  {
   "cell_type": "code",
   "execution_count": 18,
   "id": "b925d1c7-4a19-4d61-b1f2-eb0f7bb3fb67",
   "metadata": {},
   "outputs": [],
   "source": [
    "a, b = 0, 100000\n",
    "query = f\"SELECT * FROM simulacao WHERE tempo_da_simulacao >= {a} AND tempo_da_simulacao <= {b} ALLOW FILTERING;\"\n",
    "r = list(session.execute(query))\n",
    "if r != []:\n",
    "    df = ss.createDataFrame(r)"
   ]
  },
  {
   "cell_type": "code",
   "execution_count": 19,
   "id": "5832569e-ab04-4da0-ade6-fbde89d6a9b6",
   "metadata": {},
   "outputs": [
    {
     "data": {
      "text/plain": [
       "11121"
      ]
     },
     "execution_count": 19,
     "metadata": {},
     "output_type": "execute_result"
    }
   ],
   "source": [
    "df.count()"
   ]
  },
  {
   "cell_type": "code",
   "execution_count": 20,
   "id": "aa283c6e-daf1-47b4-8bcc-0e0fbf9f6b56",
   "metadata": {},
   "outputs": [
    {
     "name": "stdout",
     "output_type": "stream",
     "text": [
      "+-------+------------------+-------+-----+-------------------+\n",
      "|rodovia|tempo_da_simulacao|  placa|pos_x|              pos_y|\n",
      "+-------+------------------+-------+-----+-------------------+\n",
      "| BR-040|                48|ARG3R45|655.0|  629.7999999999995|\n",
      "| BR-040|                48|BOL7C89|385.0|             -131.9|\n",
      "| BR-040|                48|BRA6M78|475.0|-113.41999999999999|\n",
      "| BR-040|                48|CHI0U12|565.0|-25.300000000000026|\n",
      "| BR-040|                48|CHI2E34|475.0| 172.89999999999964|\n",
      "| BR-040|                48|CHI4A56|835.0|  892.7199999999998|\n",
      "| BR-040|                48|CHI6Y78|565.0|            -112.88|\n",
      "| BR-040|                48|COL7A78|475.0|  50.15999999999989|\n",
      "| BR-040|                48|COL9Q01|655.0|             1025.3|\n",
      "| BR-040|                48|PAR5N67|385.0|  31.60000000000008|\n",
      "| BR-040|                48|PER5A56|565.0|             -84.88|\n",
      "| BR-040|                48|VEN4M56|475.0| -75.47999999999996|\n",
      "| BR-040|               154|ARG3R45|655.0|-223.50000000000495|\n",
      "| BR-040|               154|ARG5B67|745.0| 1018.1199999999999|\n",
      "| BR-040|               154|ARG7P89|835.0| 1014.1199999999999|\n",
      "| BR-040|               154|ARG9D01|745.0|  860.3999999999999|\n",
      "| BR-040|               154|ARG9N01|385.0|            -134.34|\n",
      "| BR-040|               154|BOL7C89|385.0| 1157.6999999999975|\n",
      "| BR-040|               154|CHI0U01|475.0|             -79.34|\n",
      "| BR-040|               154|CHI4A56|835.0|-19.940000000003323|\n",
      "+-------+------------------+-------+-----+-------------------+\n",
      "only showing top 20 rows\n",
      "\n"
     ]
    }
   ],
   "source": [
    "df.show()"
   ]
  },
  {
   "cell_type": "code",
   "execution_count": 21,
   "id": "8bb9ce9b-77d5-48ce-a4dc-c780af2311eb",
   "metadata": {},
   "outputs": [
    {
     "name": "stdout",
     "output_type": "stream",
     "text": [
      "   rodovia    placa  tempo_inicio  tempo_final  tempo_cruzamento\n",
      "0   BR-040  ARG1L23           NaN          331               111\n",
      "1   BR-040  ARG3R45           NaN          123                93\n",
      "2   BR-040  ARG7P89           NaN          675               400\n",
      "3   BR-040  ARG9N01           NaN          334               116\n",
      "4   BR-040  BOL7C89           NaN          133                65\n",
      "5   BR-040  CHI0U01           NaN          281               104\n",
      "6   BR-040  CHI2E34           NaN           91                59\n",
      "7   BR-040  CHI4A56           NaN          151                93\n",
      "8   BR-040  COL7A78           NaN          100                56\n",
      "9   BR-040  COL7L89           NaN          560                76\n",
      "10  BR-040  GUY9F01           NaN          204               109\n",
      "11  BR-040  GUY9H01           NaN          569                -7\n",
      "12  BR-040  PAR5N67           NaN          162               118\n",
      "13  BR-040  PAR7U78           NaN          249                76\n",
      "14  BR-040  PAR9K90           NaN          242                64\n",
      "15  BR-040  PER1V23           NaN          344               113\n",
      "16  BR-040  PER9G01           NaN          523               101\n",
      "17  BR-040  SUR6V78           NaN          398               164\n",
      "18  BR-040  URU2G34           NaN          680                57\n",
      "19  BR-040  URU4L56           NaN          539               401\n"
     ]
    }
   ],
   "source": [
    "from pyspark.sql import Window\n",
    "from pyspark.sql.functions import lag, col\n",
    "\n",
    "df_cruzamento = ss.createDataFrame([], \"rodovia: string, placa: string, tempo_inicio: bigint, tempo_final: bigint\")\n",
    "\n",
    "Velocidades_Maximas = p.select(F.col('rodovia'), F.col(\"VelocidadeMaxima\"))\n",
    "Aceleracoes_Maximas = p.select(F.col('rodovia'), 0.8*F.col(\"AceleracaoMaxima\"))\n",
    "Aceleracoes_Maximas = Aceleracoes_Maximas.withColumnRenamed(\"(AceleracaoMaxima * 0.8)\", \"AceleracaoMaxima\")\n",
    "\n",
    "collision_tolerance = 1\n",
    "collision_tolerance_quad = 0.5\n",
    "def processa_carro(df, df_cruzamento):\n",
    "    windowSpec = Window.partitionBy(\"placa\").orderBy(\"tempo_da_simulacao\")\n",
    "    df = df.withColumn(\"prev_pos_y\", lag(\"pos_y\", 1).over(windowSpec))\n",
    "    df = df.withColumn(\"prev_tempo_da_simulacao\", lag(\"tempo_da_simulacao\", 1).over(windowSpec))\n",
    "    df = df.withColumn(\"vel_y\", (col(\"pos_y\") - col(\"prev_pos_y\")) / (col(\"tempo_da_simulacao\") - col(\"prev_tempo_da_simulacao\")))\n",
    "    df = df.withColumn(\"prev_vel_y\", lag(\"vel_y\", 1).over(windowSpec))\n",
    "    df = df.withColumn(\"acel_y\", (col(\"vel_y\") - col(\"prev_vel_y\")) / (col(\"tempo_da_simulacao\") - col(\"prev_tempo_da_simulacao\")))\n",
    "    \n",
    "    processa_velocidade_media(df)\n",
    "    \n",
    "    df = df.withColumn(\"posicao_prevista\", col(\"pos_y\") + col(\"vel_y\") * (collision_tolerance) + col(\"acel_y\") * collision_tolerance_quad)\n",
    "    \n",
    "    window_spec_rf = Window.partitionBy(\"rodovia\", \"pos_x\").orderBy('pos_y')\n",
    "    lag_column = col(\"posicao_prevista\") - lag(col(\"posicao_prevista\")).over(window_spec_rf)\n",
    "    lead_column = lead(col(\"posicao_prevista\")).over(window_spec_rf) - col(\"posicao_prevista\")\n",
    "    \n",
    "    # Add the lag column to the DataFrame\n",
    "    df = df.withColumn(\"Risco_Colisão\", when(((lag_column < 0) | (lead_column < 0)), 1).otherwise(0))\n",
    "    \n",
    "    df = df.join(Velocidades_Maximas,on='rodovia',how='left')\n",
    "    df = df.join(Aceleracoes_Maximas,on='rodovia',how='left')\n",
    "    \n",
    "    df = df.withColumn('acima_vel',F.abs(col('vel_y'))>F.abs(col('VelocidadeMaxima')))\n",
    "    df = df.withColumn('acima_acel',F.abs(col('acel_y'))>F.abs(col('AceleracaoMaxima')))\n",
    "    \n",
    "    #Calcula acima_vel\n",
    "    \n",
    "    df = df.withColumn(\"troca_faixa\", col(\"pos_x\") != lag(\"pos_x\", 1).over(windowSpec))\n",
    "    \n",
    "    #Contador de trocas\n",
    "    \n",
    "    df = df.withColumn('multado',((F.col('acima_vel') == 1) & (lag('acima_vel').over(windowSpec) == 0)))\n",
    "    \n",
    "    #Multa\n",
    "    \n",
    "    windowSpec = Window.partitionBy('rodovia',\"placa\").orderBy('tempo_da_simulacao')\n",
    "    \n",
    "    df = df.withColumn(\"prev_pos_y\", lag(\"pos_y\", 1).over(windowSpec))\n",
    "    df = df.withColumn(\"on_road\", (((col(\"pos_y\") > 0) & (col('pos_y') < 800))))\n",
    "    \n",
    "    df = df.withColumn('tempo_inicio',when(((F.col('on_road') == True) & (lag('on_road').over(windowSpec) == False)), F.col(\"tempo_da_simulacao\")).otherwise(None))\n",
    "    df = df.withColumn('tempo_final',when(((F.col('on_road') == True) & (lead('on_road').over(windowSpec) == False)), F.col(\"tempo_da_simulacao\")).otherwise(None))\n",
    "    df_cruzamento_aux = df.select('rodovia', 'placa', 'tempo_inicio','tempo_final').filter((F.col('vel_y') != 0) & (F.col('tempo_inicio').isNotNull() | F.col('tempo_final').isNotNull()))\n",
    "    \n",
    "    df_cruzamento = df_cruzamento.union(df_cruzamento_aux)\n",
    "    \n",
    "    windowSpec2 = Window.partitionBy('placa','rodovia').orderBy('tempo_final')\n",
    "    \n",
    "    df_cruzamento = df_cruzamento.withColumn('tempo_cruzamento', col('tempo_final') - lag('tempo_inicio').over(windowSpec2))\n",
    "    \n",
    "    processa_tempo_cruzamento(df_cruzamento)\n",
    "    df_cruzamento = df_cruzamento.filter(df_cruzamento.tempo_cruzamento.isNull())\n",
    "\n",
    "processa_carro(df, df_cruzamento)\n",
    "#pipeline(df, df_cruzamento)"
   ]
  },
  {
   "cell_type": "code",
   "execution_count": 22,
   "id": "e22cd06c-ed9e-4d5c-9bc5-25b4d08b54bb",
   "metadata": {},
   "outputs": [
    {
     "name": "stdout",
     "output_type": "stream",
     "text": [
      "+-------+-----+------------+-----------+\n",
      "|rodovia|placa|tempo_inicio|tempo_final|\n",
      "+-------+-----+------------+-----------+\n",
      "+-------+-----+------------+-----------+\n",
      "\n"
     ]
    }
   ],
   "source": [
    "df_cruzamento.show()"
   ]
  },
  {
   "cell_type": "code",
   "execution_count": 23,
   "id": "d2bc107a-25ad-4c8a-81c4-79e5adf57197",
   "metadata": {},
   "outputs": [
    {
     "data": {
      "text/html": [
       "<div>\n",
       "<style scoped>\n",
       "    .dataframe tbody tr th:only-of-type {\n",
       "        vertical-align: middle;\n",
       "    }\n",
       "\n",
       "    .dataframe tbody tr th {\n",
       "        vertical-align: top;\n",
       "    }\n",
       "\n",
       "    .dataframe thead th {\n",
       "        text-align: right;\n",
       "    }\n",
       "</style>\n",
       "<table border=\"1\" class=\"dataframe\">\n",
       "  <thead>\n",
       "    <tr style=\"text-align: right;\">\n",
       "      <th></th>\n",
       "      <th>rodovia</th>\n",
       "      <th>tempo_da_simulacao</th>\n",
       "      <th>placa</th>\n",
       "      <th>pos_x</th>\n",
       "      <th>pos_y</th>\n",
       "    </tr>\n",
       "  </thead>\n",
       "  <tbody>\n",
       "    <tr>\n",
       "      <th>0</th>\n",
       "      <td>BR-040</td>\n",
       "      <td>715</td>\n",
       "      <td>ARG7P89</td>\n",
       "      <td>835.0</td>\n",
       "      <td>-79.88</td>\n",
       "    </tr>\n",
       "    <tr>\n",
       "      <th>1</th>\n",
       "      <td>BR-040</td>\n",
       "      <td>715</td>\n",
       "      <td>ECU8D89</td>\n",
       "      <td>655.0</td>\n",
       "      <td>476.20</td>\n",
       "    </tr>\n",
       "    <tr>\n",
       "      <th>2</th>\n",
       "      <td>BR-040</td>\n",
       "      <td>715</td>\n",
       "      <td>GUY1X23</td>\n",
       "      <td>385.0</td>\n",
       "      <td>-53.06</td>\n",
       "    </tr>\n",
       "    <tr>\n",
       "      <th>3</th>\n",
       "      <td>BR-040</td>\n",
       "      <td>715</td>\n",
       "      <td>PAR3Z45</td>\n",
       "      <td>655.0</td>\n",
       "      <td>268.42</td>\n",
       "    </tr>\n",
       "    <tr>\n",
       "      <th>4</th>\n",
       "      <td>BR-040</td>\n",
       "      <td>715</td>\n",
       "      <td>URU2O34</td>\n",
       "      <td>745.0</td>\n",
       "      <td>942.06</td>\n",
       "    </tr>\n",
       "    <tr>\n",
       "      <th>...</th>\n",
       "      <td>...</td>\n",
       "      <td>...</td>\n",
       "      <td>...</td>\n",
       "      <td>...</td>\n",
       "      <td>...</td>\n",
       "    </tr>\n",
       "    <tr>\n",
       "      <th>11116</th>\n",
       "      <td>BR-040</td>\n",
       "      <td>7</td>\n",
       "      <td>PAR5N67</td>\n",
       "      <td>385.0</td>\n",
       "      <td>-148.00</td>\n",
       "    </tr>\n",
       "    <tr>\n",
       "      <th>11117</th>\n",
       "      <td>BR-040</td>\n",
       "      <td>6</td>\n",
       "      <td>ARG3R45</td>\n",
       "      <td>655.0</td>\n",
       "      <td>1030.06</td>\n",
       "    </tr>\n",
       "    <tr>\n",
       "      <th>11118</th>\n",
       "      <td>BR-040</td>\n",
       "      <td>5</td>\n",
       "      <td>ARG3R45</td>\n",
       "      <td>655.0</td>\n",
       "      <td>1040.02</td>\n",
       "    </tr>\n",
       "    <tr>\n",
       "      <th>11119</th>\n",
       "      <td>BR-040</td>\n",
       "      <td>4</td>\n",
       "      <td>ARG3R45</td>\n",
       "      <td>655.0</td>\n",
       "      <td>1050.00</td>\n",
       "    </tr>\n",
       "    <tr>\n",
       "      <th>11120</th>\n",
       "      <td>BR-040</td>\n",
       "      <td>3</td>\n",
       "      <td>ARG3R45</td>\n",
       "      <td>655.0</td>\n",
       "      <td>1060.00</td>\n",
       "    </tr>\n",
       "  </tbody>\n",
       "</table>\n",
       "<p>11121 rows × 5 columns</p>\n",
       "</div>"
      ],
      "text/plain": [
       "      rodovia  tempo_da_simulacao    placa  pos_x    pos_y\n",
       "0      BR-040                 715  ARG7P89  835.0   -79.88\n",
       "1      BR-040                 715  ECU8D89  655.0   476.20\n",
       "2      BR-040                 715  GUY1X23  385.0   -53.06\n",
       "3      BR-040                 715  PAR3Z45  655.0   268.42\n",
       "4      BR-040                 715  URU2O34  745.0   942.06\n",
       "...       ...                 ...      ...    ...      ...\n",
       "11116  BR-040                   7  PAR5N67  385.0  -148.00\n",
       "11117  BR-040                   6  ARG3R45  655.0  1030.06\n",
       "11118  BR-040                   5  ARG3R45  655.0  1040.02\n",
       "11119  BR-040                   4  ARG3R45  655.0  1050.00\n",
       "11120  BR-040                   3  ARG3R45  655.0  1060.00\n",
       "\n",
       "[11121 rows x 5 columns]"
      ]
     },
     "execution_count": 23,
     "metadata": {},
     "output_type": "execute_result"
    }
   ],
   "source": [
    "pd.set_option('display.max_rows', 100)\n",
    "ata = df.orderBy(df.tempo_da_simulacao.desc()).toPandas()\n",
    "ata"
   ]
  },
  {
   "cell_type": "code",
   "execution_count": 24,
   "id": "de7e3865-33d2-4bea-a96c-346c505aa089",
   "metadata": {},
   "outputs": [
    {
     "name": "stdout",
     "output_type": "stream",
     "text": [
      "+-------+-----+------------+-----------+\n",
      "|rodovia|placa|tempo_inicio|tempo_final|\n",
      "+-------+-----+------------+-----------+\n",
      "+-------+-----+------------+-----------+\n",
      "\n"
     ]
    }
   ],
   "source": [
    "df_cruzamento.orderBy(df_cruzamento.placa.asc()).show(1000)"
   ]
  },
  {
   "cell_type": "code",
   "execution_count": 25,
   "id": "14788843-f1ce-4c6a-b7a3-2177ff1e86d0",
   "metadata": {},
   "outputs": [
    {
     "data": {
      "text/plain": [
       "{'BR-040': 60.30434782608695,\n",
       " 'BR-116': 0,\n",
       " 'BR-135': 0,\n",
       " 'BR-393': 0,\n",
       " 'BR-101': 0,\n",
       " 'BR-376': 0,\n",
       " 'BR-262': 0,\n",
       " 'BR-153': 0,\n",
       " 'BR-230': 0,\n",
       " 'BR-349': 0,\n",
       " 'BR-060': 0,\n",
       " 'BR-050': 0,\n",
       " 'BR-070': 0,\n",
       " 'BR-163': 0,\n",
       " 'BR-277': 0}"
      ]
     },
     "execution_count": 25,
     "metadata": {},
     "output_type": "execute_result"
    }
   ],
   "source": [
    "tempo_medio"
   ]
  },
  {
   "cell_type": "code",
   "execution_count": 26,
   "id": "1b47674e-5984-4107-b57d-b872b270bd12",
   "metadata": {},
   "outputs": [
    {
     "data": {
      "text/plain": [
       "{'BR-040': 2.0648035118799997,\n",
       " 'BR-116': 0,\n",
       " 'BR-135': 0,\n",
       " 'BR-393': 0,\n",
       " 'BR-101': 0,\n",
       " 'BR-376': 0,\n",
       " 'BR-262': 0,\n",
       " 'BR-153': 0,\n",
       " 'BR-230': 0,\n",
       " 'BR-349': 0,\n",
       " 'BR-060': 0,\n",
       " 'BR-050': 0,\n",
       " 'BR-070': 0,\n",
       " 'BR-163': 0,\n",
       " 'BR-277': 0}"
      ]
     },
     "execution_count": 26,
     "metadata": {},
     "output_type": "execute_result"
    }
   ],
   "source": [
    "vel_media"
   ]
  },
  {
   "cell_type": "code",
   "execution_count": null,
   "id": "294edd66-a624-42e8-bb8f-a197a77a4977",
   "metadata": {},
   "outputs": [],
   "source": [
    "dfp = df.toPandas()\n",
    "dfp[dfp['placa'] == 'PAR7P89'].sort_values(by=['tempo_da_simulacao'], ascending=True)"
   ]
  },
  {
   "cell_type": "code",
   "execution_count": null,
   "id": "e58f57a4-c21a-47d8-9c5a-66e0987f4016",
   "metadata": {},
   "outputs": [],
   "source": []
  },
  {
   "cell_type": "code",
   "execution_count": null,
   "id": "e31fcf27-8c41-4b7c-b913-3c43b6da7e42",
   "metadata": {},
   "outputs": [],
   "source": []
  }
 ],
 "metadata": {
  "kernelspec": {
   "display_name": "Python 3 (ipykernel)",
   "language": "python",
   "name": "python3"
  },
  "language_info": {
   "codemirror_mode": {
    "name": "ipython",
    "version": 3
   },
   "file_extension": ".py",
   "mimetype": "text/x-python",
   "name": "python",
   "nbconvert_exporter": "python",
   "pygments_lexer": "ipython3",
   "version": "3.11.3"
  }
 },
 "nbformat": 4,
 "nbformat_minor": 5
}

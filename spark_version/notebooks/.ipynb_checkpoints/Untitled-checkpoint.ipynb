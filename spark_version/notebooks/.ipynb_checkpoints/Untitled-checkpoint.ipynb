{
 "cells": [
  {
   "cell_type": "code",
   "execution_count": 24,
   "id": "45e21f71-af04-4249-b3c9-04c15d5c886d",
   "metadata": {},
   "outputs": [],
   "source": [
    "from cassandra.cluster import Cluster\n",
    "import os\n",
    "from mock.tasks import adiciona_carro\n",
    "cluster = Cluster(['cassandra'])\n",
    "session = cluster.connect()"
   ]
  },
  {
   "cell_type": "code",
   "execution_count": null,
   "id": "18d2d48b-dcde-4b54-8343-eb2cc5911a49",
   "metadata": {},
   "outputs": [],
   "source": [
    "session.execute(\"\"\"\n",
    "\n",
    "CREATE KEYSPACE simulacao WITH replication = {'class': 'SimpleStrategy', 'replication_factor': 1};\n",
    "USE simulacao;\n",
    "CREATE TABLE simulacao (\n",
    "  placa text,\n",
    "  rodovia text,\n",
    "  tempo_da_simulacao double,\n",
    "  pos_x double,\n",
    "  pos_y double,\n",
    "  PRIMARY KEY ((placa, rodovia), tempo_da_simulacao)\n",
    ");\n",
    "\n",
    "\"\"\")"
   ]
  },
  {
   "cell_type": "code",
   "execution_count": 26,
   "id": "0e6a7a0e-3555-4292-a550-e49da410b542",
   "metadata": {},
   "outputs": [
    {
     "data": {
      "text/plain": [
       "<cassandra.cluster.ResultSet at 0x7f29bd440c90>"
      ]
     },
     "execution_count": 26,
     "metadata": {},
     "output_type": "execute_result"
    }
   ],
   "source": [
    "session.execute(\"USE simulacao\")"
   ]
  },
  {
   "cell_type": "code",
   "execution_count": 27,
   "id": "c9057e51-fab5-4319-b6b4-84e94a50f338",
   "metadata": {},
   "outputs": [
    {
     "name": "stderr",
     "output_type": "stream",
     "text": [
      "/tmp/ipykernel_421/2139627382.py:1: DeprecationWarning: ResultSet indexing support will be removed in 4.0. Consider using ResultSet.one() to get a single row.\n",
      "  session.execute(\"SELECT COUNT(*) FROM simulacao;\")[0]\n"
     ]
    },
    {
     "data": {
      "text/plain": [
       "Row(count=870)"
      ]
     },
     "execution_count": 27,
     "metadata": {},
     "output_type": "execute_result"
    }
   ],
   "source": [
    "session.execute(\"SELECT COUNT(*) FROM simulacao;\")[0]"
   ]
  },
  {
   "cell_type": "code",
   "execution_count": 20,
   "id": "2c98c4d1-5d6b-483c-b536-5b2d8e7f6f2b",
   "metadata": {},
   "outputs": [
    {
     "data": {
      "text/plain": [
       "<cassandra.cluster.ResultSet at 0x7f29bc587f90>"
      ]
     },
     "execution_count": 20,
     "metadata": {},
     "output_type": "execute_result"
    }
   ],
   "source": [
    "session.execute(\"INSERT INTO simulacao (placa, rodovia, tempo_da_simulacao, pos_x, pos_y) VALUES ('ABC-1234', 'BR-101', 1.5, 10.2, 5.6);\")"
   ]
  },
  {
   "cell_type": "code",
   "execution_count": 33,
   "id": "f6016ba7-3278-483a-8aed-2412cd39b19b",
   "metadata": {},
   "outputs": [],
   "source": [
    "# for i in range(800):\n",
    "#     print(session.execute(\"SELECT * FROM simulacao;\")[i])"
   ]
  },
  {
   "cell_type": "code",
   "execution_count": 16,
   "id": "be9263a7-cc03-4272-b1ed-26c2e2e9e83a",
   "metadata": {},
   "outputs": [],
   "source": [
    "# session.shutdown()"
   ]
  },
  {
   "cell_type": "code",
   "execution_count": 17,
   "id": "2844466a-85bf-4f0b-8891-ac238296b6cb",
   "metadata": {},
   "outputs": [],
   "source": [
    "# cluster.shutdown()"
   ]
  },
  {
   "cell_type": "code",
   "execution_count": 36,
   "id": "6c3467b3-914b-42c9-b80b-317f518bc799",
   "metadata": {},
   "outputs": [],
   "source": [
    "# from mock.tasks import adiciona_carro"
   ]
  },
  {
   "cell_type": "code",
   "execution_count": 34,
   "id": "2dab0dbe-7861-40c6-abf0-2a6477611808",
   "metadata": {},
   "outputs": [],
   "source": [
    "# adiciona_carro.delay('ABC-1234', 'BR-101', 1.5, 10.2, 5.6)"
   ]
  },
  {
   "cell_type": "code",
   "execution_count": 35,
   "id": "06d62259-31c0-4e6a-8b1f-9b1e469203e0",
   "metadata": {},
   "outputs": [],
   "source": [
    "# adiciona_carro.delay('DEF-5678', 'BR-101', 3.5, 11.26, 8.6)"
   ]
  },
  {
   "cell_type": "code",
   "execution_count": null,
   "id": "4dff62ce-0fbe-4372-a2d1-44c2067449e6",
   "metadata": {},
   "outputs": [],
   "source": []
  }
 ],
 "metadata": {
  "kernelspec": {
   "display_name": "Python 3 (ipykernel)",
   "language": "python",
   "name": "python3"
  },
  "language_info": {
   "codemirror_mode": {
    "name": "ipython",
    "version": 3
   },
   "file_extension": ".py",
   "mimetype": "text/x-python",
   "name": "python",
   "nbconvert_exporter": "python",
   "pygments_lexer": "ipython3",
   "version": "3.11.3"
  }
 },
 "nbformat": 4,
 "nbformat_minor": 5
}

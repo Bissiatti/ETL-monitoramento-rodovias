{
 "cells": [
  {
   "cell_type": "code",
   "execution_count": 18,
   "id": "45e21f71-af04-4249-b3c9-04c15d5c886d",
   "metadata": {},
   "outputs": [
    {
     "data": {
      "text/plain": [
       "<cassandra.cluster.ResultSet at 0x7f86bd6c1b90>"
      ]
     },
     "execution_count": 18,
     "metadata": {},
     "output_type": "execute_result"
    }
   ],
   "source": [
    "from cassandra.cluster import Cluster\n",
    "import os\n",
    "from mock.tasks import adiciona_carro\n",
    "cluster = Cluster(['cassandra'])\n",
    "session = cluster.connect()\n",
    "session.execute(\"USE simulacao\")"
   ]
  },
  {
   "cell_type": "code",
   "execution_count": 20,
   "id": "06d62259-31c0-4e6a-8b1f-9b1e469203e0",
   "metadata": {},
   "outputs": [],
   "source": [
    "adiciona_carro.delay('DEF-5678', 'BR-101', 3.5, 11.26, 8.6)"
   ]
  },
  {
   "cell_type": "code",
   "execution_count": 22,
   "id": "2ecb8f95-94a2-4018-97b4-4f944b61895f",
   "metadata": {},
   "outputs": [],
   "source": []
  },
  {
   "cell_type": "code",
   "execution_count": 19,
   "id": "c9057e51-fab5-4319-b6b4-84e94a50f338",
   "metadata": {},
   "outputs": [
    {
     "name": "stderr",
     "output_type": "stream",
     "text": [
      "/tmp/ipykernel_1037/2139627382.py:1: DeprecationWarning: ResultSet indexing support will be removed in 4.0. Consider using ResultSet.one() to get a single row.\n",
      "  session.execute(\"SELECT COUNT(*) FROM simulacao;\")[0]\n"
     ]
    },
    {
     "data": {
      "text/plain": [
       "Row(count=1)"
      ]
     },
     "execution_count": 19,
     "metadata": {},
     "output_type": "execute_result"
    }
   ],
   "source": [
    "session.execute(\"SELECT COUNT(*) FROM simulacao;\")[0]"
   ]
  },
  {
   "cell_type": "code",
   "execution_count": 9,
   "id": "2c98c4d1-5d6b-483c-b536-5b2d8e7f6f2b",
   "metadata": {},
   "outputs": [
    {
     "data": {
      "text/plain": [
       "<cassandra.cluster.ResultSet at 0x7f86bd839310>"
      ]
     },
     "execution_count": 9,
     "metadata": {},
     "output_type": "execute_result"
    }
   ],
   "source": [
    "session.execute(\"INSERT INTO simulacao (placa, rodovia, tempo_da_simulacao, pos_x, pos_y) VALUES ('ABC-1234', 'BR-101', 1.5, 10.2, 5.6);\")"
   ]
  },
  {
   "cell_type": "code",
   "execution_count": 11,
   "id": "f6016ba7-3278-483a-8aed-2412cd39b19b",
   "metadata": {},
   "outputs": [
    {
     "name": "stderr",
     "output_type": "stream",
     "text": [
      "/tmp/ipykernel_1037/1554952220.py:1: DeprecationWarning: ResultSet indexing support will be removed in 4.0. Consider using ResultSet.one() to get a single row.\n",
      "  session.execute(\"SELECT * FROM simulacao;\")[0]\n"
     ]
    },
    {
     "data": {
      "text/plain": [
       "Row(placa='ABC-1234', rodovia='BR-101', tempo_da_simulacao=1.5, pos_x=10.2, pos_y=5.6)"
      ]
     },
     "execution_count": 11,
     "metadata": {},
     "output_type": "execute_result"
    }
   ],
   "source": [
    "session.execute(\"SELECT * FROM simulacao;\")[0]"
   ]
  },
  {
   "cell_type": "code",
   "execution_count": 16,
   "id": "be9263a7-cc03-4272-b1ed-26c2e2e9e83a",
   "metadata": {},
   "outputs": [],
   "source": [
    "# session.shutdown()"
   ]
  },
  {
   "cell_type": "code",
   "execution_count": 17,
   "id": "2844466a-85bf-4f0b-8891-ac238296b6cb",
   "metadata": {},
   "outputs": [],
   "source": [
    "# cluster.shutdown()"
   ]
  },
  {
   "cell_type": "code",
   "execution_count": null,
   "id": "6c3467b3-914b-42c9-b80b-317f518bc799",
   "metadata": {},
   "outputs": [],
   "source": []
  },
  {
   "cell_type": "code",
   "execution_count": null,
   "id": "4dff62ce-0fbe-4372-a2d1-44c2067449e6",
   "metadata": {},
   "outputs": [],
   "source": []
  }
 ],
 "metadata": {
  "kernelspec": {
   "display_name": "Python 3 (ipykernel)",
   "language": "python",
   "name": "python3"
  },
  "language_info": {
   "codemirror_mode": {
    "name": "ipython",
    "version": 3
   },
   "file_extension": ".py",
   "mimetype": "text/x-python",
   "name": "python",
   "nbconvert_exporter": "python",
   "pygments_lexer": "ipython3",
   "version": "3.11.3"
  }
 },
 "nbformat": 4,
 "nbformat_minor": 5
}
